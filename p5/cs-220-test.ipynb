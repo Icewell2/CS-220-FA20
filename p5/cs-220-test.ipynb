{
 "cells": [
  {
   "cell_type": "code",
   "execution_count": 1,
   "metadata": {},
   "outputs": [],
   "source": [
    "# project: p5\n",
    "# submitter: zchen697\n",
    "# partner: none"
   ]
  },
  {
   "cell_type": "code",
   "execution_count": 2,
   "metadata": {},
   "outputs": [
    {
     "data": {
      "text/plain": [
       "133"
      ]
     },
     "execution_count": 2,
     "metadata": {},
     "output_type": "execute_result"
    }
   ],
   "source": [
    "#q1\n",
    "import project\n",
    "project.count()"
   ]
  },
  {
   "cell_type": "code",
   "execution_count": 3,
   "metadata": {},
   "outputs": [
    {
     "data": {
      "text/plain": [
       "'Lenny'"
      ]
     },
     "execution_count": 3,
     "metadata": {},
     "output_type": "execute_result"
    }
   ],
   "source": [
    "#q2\n",
    "project.get_name(project.count()-2)"
   ]
  },
  {
   "cell_type": "code",
   "execution_count": 4,
   "metadata": {},
   "outputs": [
    {
     "data": {
      "text/plain": [
       "756"
      ]
     },
     "execution_count": 4,
     "metadata": {},
     "output_type": "execute_result"
    }
   ],
   "source": [
    "#q3\n",
    "project.get_deaths(24)"
   ]
  },
  {
   "cell_type": "code",
   "execution_count": 5,
   "metadata": {},
   "outputs": [
    {
     "data": {
      "text/plain": [
       "3"
      ]
     },
     "execution_count": 5,
     "metadata": {},
     "output_type": "execute_result"
    }
   ],
   "source": [
    "#q4\n",
    "i = 0\n",
    "\n",
    "for idx in range(project.count()):\n",
    "    if project.get_name(idx).lower() == \"florence\":\n",
    "        i += 1\n",
    "    idx += 1\n",
    "\n",
    "i"
   ]
  },
  {
   "cell_type": "code",
   "execution_count": 6,
   "metadata": {},
   "outputs": [
    {
     "data": {
      "text/plain": [
       "68"
      ]
     },
     "execution_count": 6,
     "metadata": {},
     "output_type": "execute_result"
    }
   ],
   "source": [
    "#q5\n",
    "number_of_uniq_deaths = [] \n",
    "for i in range(project.count()):\n",
    "# add this number to record if there is no duplicate\n",
    "    if not project.get_deaths(i) in number_of_uniq_deaths: \n",
    "        number_of_uniq_deaths.append(project.get_deaths(i)) # TODO: get the number_of_death of that hurricane\n",
    "len(number_of_uniq_deaths)"
   ]
  },
  {
   "cell_type": "code",
   "execution_count": 7,
   "metadata": {},
   "outputs": [
    {
     "data": {
      "text/plain": [
       "'Allen'"
      ]
     },
     "execution_count": 7,
     "metadata": {},
     "output_type": "execute_result"
    }
   ],
   "source": [
    "#q6\n",
    "\n",
    "b = 0\n",
    "c = 0\n",
    "\n",
    "for idx in range(project.count()):\n",
    "    a = project.get_mph(idx)\n",
    "    if (a > b) and (idx < project.count()):\n",
    "        b = a\n",
    "        c = idx\n",
    "\n",
    "project.get_name(c)"
   ]
  },
  {
   "cell_type": "code",
   "execution_count": 8,
   "metadata": {},
   "outputs": [
    {
     "data": {
      "text/plain": [
       "124.47368421052632"
      ]
     },
     "execution_count": 8,
     "metadata": {},
     "output_type": "execute_result"
    }
   ],
   "source": [
    "#q7\n",
    "\n",
    "summph = 0\n",
    "\n",
    "for j in range(project.count()):\n",
    "    summph += project.get_mph(j)\n",
    "    \n",
    "avemph = summph / (project.count())\n",
    "avemph"
   ]
  },
  {
   "cell_type": "code",
   "execution_count": 9,
   "metadata": {},
   "outputs": [],
   "source": [
    "def format_damage(x):\n",
    "    if x[len(x)-1] == \"K\":\n",
    "        return int((float(x[:(len(x)-1)])) * (10 ** 3))\n",
    "    elif x[len(x)-1] == \"M\":\n",
    "        return int((float(x[:(len(x)-1)])) * (10 ** 6))\n",
    "    elif x[len(x)-1] == \"B\":\n",
    "        return int((float(x[:(len(x)-1)])) * (10 ** 9))\n",
    "    \n",
    "        "
   ]
  },
  {
   "cell_type": "code",
   "execution_count": 10,
   "metadata": {},
   "outputs": [
    {
     "data": {
      "text/plain": [
       "6502484699"
      ]
     },
     "execution_count": 10,
     "metadata": {},
     "output_type": "execute_result"
    }
   ],
   "source": [
    "#q8\n",
    "\n",
    "sumda = 0\n",
    "\n",
    "for q in range(project.count()):\n",
    "    sumda += format_damage(project.get_damage(q))\n",
    "    \n",
    "aveda = sumda / (project.count())\n",
    "int(aveda)\n"
   ]
  },
  {
   "cell_type": "code",
   "execution_count": 11,
   "metadata": {},
   "outputs": [],
   "source": [
    "def get_month(date):\n",
    "    '''Returns the month when the date is the in the 'mm/dd/yyyy' format'''\n",
    "    return int(date[:2])\n",
    "\n",
    "def get_day(date):\n",
    "    '''Returns the day when the date is the in the 'mm/dd/yyyy' format'''\n",
    "    return int(date[3:5])\n",
    "\n",
    "\n",
    "def get_year(date):\n",
    "    '''Returns the year when the date is the in the 'mm/dd/yyyy' format'''\n",
    "    return int(date[6:])\n"
   ]
  },
  {
   "cell_type": "code",
   "execution_count": 12,
   "metadata": {},
   "outputs": [
    {
     "data": {
      "text/plain": [
       "77"
      ]
     },
     "execution_count": 12,
     "metadata": {},
     "output_type": "execute_result"
    }
   ],
   "source": [
    "#q9\n",
    "\n",
    "sumf = 0\n",
    "\n",
    "for k in range(project.count()):\n",
    "    if project.get_name(k) == \"Floyd\":\n",
    "        sumf += project.get_deaths(k)\n",
    "        \n",
    "sumf\n",
    "        "
   ]
  },
  {
   "cell_type": "code",
   "execution_count": 13,
   "metadata": {},
   "outputs": [],
   "source": [
    "\n",
    "# return index of deadliest hurricane over the given date range\n",
    "def deadliest_in_range(year1, year2):\n",
    "    worst_idx = None\n",
    "    a = 0\n",
    "    for i in range(project.count()):\n",
    "        b = project.get_deaths(i)\n",
    "        if (get_year(project.get_formed(i)) >= min(year1, year2)) and (get_year(project.get_formed(i)) <= max(year1, year2)):  \n",
    "            # TODO: check if year is in range\n",
    "            if worst_idx == None or (b > a):  # TODO: it is worse than previous?\n",
    "                a = b\n",
    "                worst_idx = i\n",
    "    return worst_idx"
   ]
  },
  {
   "cell_type": "code",
   "execution_count": 14,
   "metadata": {},
   "outputs": [
    {
     "data": {
      "text/plain": [
       "'Maria'"
      ]
     },
     "execution_count": 14,
     "metadata": {},
     "output_type": "execute_result"
    }
   ],
   "source": [
    "#q10\n",
    "\n",
    "x = deadliest_in_range(2000,2020)\n",
    "project.get_name(x)\n"
   ]
  },
  {
   "cell_type": "code",
   "execution_count": 15,
   "metadata": {},
   "outputs": [],
   "source": [
    "\n",
    "# get the range of years that recorded\n",
    "\n",
    "def min_years():\n",
    "    a = 2030\n",
    "    for i in range(project.count()):\n",
    "        if get_year(project.get_formed(i)) < a:\n",
    "            a = get_year(project.get_formed(i))\n",
    "    return a\n",
    "        \n",
    "def max_years():\n",
    "    b = 1900\n",
    "    for i in range(project.count()):\n",
    "        if get_year(project.get_formed(i)) > b:\n",
    "            b = get_year(project.get_formed(i))\n",
    "    return b\n"
   ]
  },
  {
   "cell_type": "code",
   "execution_count": 16,
   "metadata": {},
   "outputs": [
    {
     "data": {
      "text/plain": [
       "'San Ciriaco'"
      ]
     },
     "execution_count": 16,
     "metadata": {},
     "output_type": "execute_result"
    }
   ],
   "source": [
    "#q11\n",
    "\n",
    "yearmin = min_years()\n",
    "yearmax = max_years()\n",
    "\n",
    "x = deadliest_in_range(yearmin, yearmax)\n",
    "\n",
    "project.get_name(x)"
   ]
  },
  {
   "cell_type": "code",
   "execution_count": 17,
   "metadata": {},
   "outputs": [
    {
     "data": {
      "text/plain": [
       "1966"
      ]
     },
     "execution_count": 17,
     "metadata": {},
     "output_type": "execute_result"
    }
   ],
   "source": [
    "#q12\n",
    "\n",
    "x = deadliest_in_range(1901, 2000)\n",
    "\n",
    "get_year(project.get_formed(x))\n"
   ]
  },
  {
   "cell_type": "code",
   "execution_count": 18,
   "metadata": {},
   "outputs": [
    {
     "data": {
      "text/plain": [
       "7940000000"
      ]
     },
     "execution_count": 18,
     "metadata": {},
     "output_type": "execute_result"
    }
   ],
   "source": [
    "#q13\n",
    "\n",
    "x = deadliest_in_range(2000, 2010)\n",
    "\n",
    "int(format_damage(project.get_damage(x)))\n"
   ]
  },
  {
   "cell_type": "code",
   "execution_count": 19,
   "metadata": {},
   "outputs": [
    {
     "data": {
      "text/plain": [
       "263027139999"
      ]
     },
     "execution_count": 19,
     "metadata": {},
     "output_type": "execute_result"
    }
   ],
   "source": [
    "#q14\n",
    "\n",
    "summonth = 0\n",
    "\n",
    "for i in range(project.count()):\n",
    "    if get_month(project.get_formed(i)) == 9:\n",
    "        summonth += format_damage(project.get_damage(i))\n",
    "        \n",
    "summonth\n",
    "        "
   ]
  },
  {
   "cell_type": "code",
   "execution_count": 20,
   "metadata": {},
   "outputs": [],
   "source": [
    "# return number of huricanes formed in month mm\n",
    "def hurricanes_in_month(mm):\n",
    "    num_of_hurricanes = 0\n",
    "    for i in range(project.count()):\n",
    "        if get_month(project.get_formed(i)) == mm:\n",
    "            num_of_hurricanes += 1\n",
    "    return num_of_hurricanes"
   ]
  },
  {
   "cell_type": "code",
   "execution_count": 21,
   "metadata": {},
   "outputs": [
    {
     "data": {
      "text/plain": [
       "3"
      ]
     },
     "execution_count": 21,
     "metadata": {},
     "output_type": "execute_result"
    }
   ],
   "source": [
    "#q15\n",
    "\n",
    "x = hurricanes_in_month(12)\n",
    "x"
   ]
  },
  {
   "cell_type": "code",
   "execution_count": 22,
   "metadata": {},
   "outputs": [
    {
     "data": {
      "text/plain": [
       "102"
      ]
     },
     "execution_count": 22,
     "metadata": {},
     "output_type": "execute_result"
    }
   ],
   "source": [
    "#q16\n",
    "\n",
    "x = hurricanes_in_month(8) + hurricanes_in_month(9) + hurricanes_in_month(10) + hurricanes_in_month(11)\n",
    "x"
   ]
  },
  {
   "cell_type": "code",
   "execution_count": 23,
   "metadata": {},
   "outputs": [
    {
     "data": {
      "text/plain": [
       "3"
      ]
     },
     "execution_count": 23,
     "metadata": {},
     "output_type": "execute_result"
    }
   ],
   "source": [
    "#q17\n",
    "\n",
    "x = 100\n",
    "\n",
    "\n",
    "for i in range(12):\n",
    "    z = hurricanes_in_month(i+1)\n",
    "    if z < x:\n",
    "        x = z\n",
    "        y = i+1\n",
    "\n",
    "y"
   ]
  },
  {
   "cell_type": "code",
   "execution_count": 24,
   "metadata": {},
   "outputs": [],
   "source": [
    "def hurr_in_year(x):\n",
    "    a = 0\n",
    "    for i in range(project.count()):\n",
    "        if get_year(project.get_formed(i)) == x:\n",
    "            a += 1\n",
    "    return a\n",
    "        \n",
    "        "
   ]
  },
  {
   "cell_type": "code",
   "execution_count": 25,
   "metadata": {},
   "outputs": [
    {
     "data": {
      "text/plain": [
       "17"
      ]
     },
     "execution_count": 25,
     "metadata": {},
     "output_type": "execute_result"
    }
   ],
   "source": [
    "#q18\n",
    "\n",
    "a = 0\n",
    "\n",
    "for i in range(11):\n",
    "    a += hurr_in_year(2010+i)\n",
    "    \n",
    "a"
   ]
  },
  {
   "cell_type": "code",
   "execution_count": 26,
   "metadata": {},
   "outputs": [
    {
     "data": {
      "text/plain": [
       "4"
      ]
     },
     "execution_count": 26,
     "metadata": {},
     "output_type": "execute_result"
    }
   ],
   "source": [
    "#q19\n",
    "\n",
    "year_list = []\n",
    "for i in range(project.count()):\n",
    "    year = get_year(project.get_formed(i)) # TODO: get the year this hurricane formed\n",
    "    if (project.get_deaths(i) > 1000) and (not year in year_list): # TODO: check whether this hurricane caused more than 1000 deaths\n",
    "        year_list.append(year) \n",
    "len(year_list)\n"
   ]
  },
  {
   "cell_type": "code",
   "execution_count": 27,
   "metadata": {},
   "outputs": [
    {
     "data": {
      "text/plain": [
       "17"
      ]
     },
     "execution_count": 27,
     "metadata": {},
     "output_type": "execute_result"
    }
   ],
   "source": [
    "#q20\n",
    "\n",
    "year_list = []\n",
    "for i in range(project.count()):\n",
    "    year = get_year(project.get_formed(i)) # TODO: get the year this hurricane formed\n",
    "    if (project.get_mph(i) > 150) and (not year in year_list): # TODO: check whether this hurricane is faster than 150 mph\n",
    "        year_list.append(year)\n",
    "len(year_list)"
   ]
  },
  {
   "cell_type": "code",
   "execution_count": null,
   "metadata": {},
   "outputs": [],
   "source": []
  },
  {
   "cell_type": "code",
   "execution_count": null,
   "metadata": {},
   "outputs": [],
   "source": []
  },
  {
   "cell_type": "code",
   "execution_count": null,
   "metadata": {},
   "outputs": [],
   "source": []
  }
 ],
 "metadata": {
  "kernelspec": {
   "display_name": "Python 3",
   "language": "python",
   "name": "python3"
  },
  "language_info": {
   "codemirror_mode": {
    "name": "ipython",
    "version": 3
   },
   "file_extension": ".py",
   "mimetype": "text/x-python",
   "name": "python",
   "nbconvert_exporter": "python",
   "pygments_lexer": "ipython3",
   "version": "3.8.5"
  }
 },
 "nbformat": 4,
 "nbformat_minor": 4
}
