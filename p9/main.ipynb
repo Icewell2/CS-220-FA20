{
 "cells": [
  {
   "cell_type": "code",
   "execution_count": 1,
   "metadata": {},
   "outputs": [],
   "source": [
    "# project: p9\n",
    "# submitter: zchen697\n",
    "# partner: none"
   ]
  },
  {
   "cell_type": "code",
   "execution_count": 2,
   "metadata": {},
   "outputs": [],
   "source": [
    "import csv\n",
    "import copy \n",
    "import matplotlib\n",
    "import pandas"
   ]
  },
  {
   "cell_type": "code",
   "execution_count": 3,
   "metadata": {},
   "outputs": [],
   "source": [
    "# Allows you to render matplotlib graphs in the same notebook\n",
    "%matplotlib inline "
   ]
  },
  {
   "cell_type": "code",
   "execution_count": 4,
   "metadata": {},
   "outputs": [],
   "source": [
    "def plot_dict(d, label=\"Please Label Me!!!\"):\n",
    "    ax = pandas.Series(d).sort_index().plot.bar(color=\"black\", fontsize=16)\n",
    "    ax.set_ylabel(label, fontsize=16)"
   ]
  },
  {
   "cell_type": "code",
   "execution_count": 5,
   "metadata": {},
   "outputs": [],
   "source": [
    "# copied from https://automatetheboringstuff.com/chapter14/\n",
    "def get_mapping(path):\n",
    "    exampleFile = open(path, encoding=\"utf-8\")\n",
    "    exampleReader = csv.reader(exampleFile)\n",
    "    exampleData = list(exampleReader)\n",
    "    exampleFile.close()\n",
    "    dict_data = {}\n",
    "    for key in range(len(exampleData)):\n",
    "        dict_data[exampleData[key][0]] = exampleData[key][1]\n",
    "    return dict_data\n",
    "    "
   ]
  },
  {
   "cell_type": "code",
   "execution_count": 6,
   "metadata": {},
   "outputs": [],
   "source": [
    "# copied from https://automatetheboringstuff.com/chapter14/\n",
    "def get_raw_movies(path):\n",
    "    exampleFile = open(path, encoding=\"utf-8\")\n",
    "    exampleReader = csv.reader(exampleFile)\n",
    "    exampleData = list(exampleReader)\n",
    "    exampleHeader = exampleData[0] \n",
    "    exampleFile.close()\n",
    "    dict_data = {}\n",
    "    final_data = []\n",
    "    for key in range(len(exampleData)):\n",
    "        dict_data = {}\n",
    "        for position in range(len(exampleHeader)):\n",
    "            if key+1 < len(exampleData) and position <= 2 and exampleData[0][position] == \"year\":\n",
    "                dict_data[exampleData[0][position]] = int(exampleData[key+1][position])\n",
    "            elif key+1 < len(exampleData) and position <= 2 and exampleData[0][position] == \"rating\":\n",
    "                dict_data[exampleData[0][position]] = float(exampleData[key+1][position])\n",
    "            elif key+1 < len(exampleData) and position <= 2:\n",
    "                dict_data[exampleData[0][position]] = exampleData[key+1][position]\n",
    "            elif key+1 < len(exampleData) and position > 2:\n",
    "                dict_data[exampleData[0][position]] = exampleData[key+1][position].split(\",\")\n",
    "            if position == len(exampleHeader)-1 and key != len(exampleData)-1:\n",
    "                final_data.append(dict_data) \n",
    "    return final_data"
   ]
  },
  {
   "cell_type": "code",
   "execution_count": 7,
   "metadata": {},
   "outputs": [],
   "source": [
    "def get_movies(movies_path, mapping_path):\n",
    "    mv_list = get_raw_movies(movies_path)\n",
    "    mp_dict = get_mapping(mapping_path)\n",
    "    for item in range(len(mv_list)):\n",
    "        for title in range(len(mv_list[item]['actors'])):\n",
    "            mv_list[item]['actors'][title] = mp_dict[mv_list[item]['actors'][title]]\n",
    "        for title in range(len(mv_list[item]['directors'])):\n",
    "            mv_list[item]['directors'][title] = mp_dict[mv_list[item]['directors'][title]]\n",
    "        mv_list[item]['title'] = mp_dict[mv_list[item]['title']]\n",
    "    return mv_list"
   ]
  },
  {
   "cell_type": "code",
   "execution_count": 8,
   "metadata": {},
   "outputs": [],
   "source": [
    "movies = get_movies(\"movies.csv\", \"mapping.csv\")"
   ]
  },
  {
   "cell_type": "code",
   "execution_count": 9,
   "metadata": {},
   "outputs": [
    {
     "data": {
      "text/plain": [
       "6.380867346938772"
      ]
     },
     "execution_count": 9,
     "metadata": {},
     "output_type": "execute_result"
    }
   ],
   "source": [
    "#q1\n",
    "\n",
    "target_actors = []\n",
    "for i in range(len(movies)):\n",
    "    if len(movies[i][\"actors\"]) < 4:\n",
    "        target_actors.append(movies[i][\"rating\"])\n",
    "\n",
    "sum(target_actors)/len(target_actors)"
   ]
  },
  {
   "cell_type": "code",
   "execution_count": 10,
   "metadata": {},
   "outputs": [
    {
     "data": {
      "text/plain": [
       "6.742857142857143"
      ]
     },
     "execution_count": 10,
     "metadata": {},
     "output_type": "execute_result"
    }
   ],
   "source": [
    "#q2\n",
    "\n",
    "target_greatfive = []\n",
    "for i in range(len(movies)):\n",
    "    if len(movies[i][\"actors\"]) > 5:\n",
    "        target_greatfive.append(movies[i][\"rating\"])\n",
    "\n",
    "sum(target_greatfive)/len(target_greatfive)"
   ]
  },
  {
   "cell_type": "code",
   "execution_count": 11,
   "metadata": {},
   "outputs": [
    {
     "data": {
      "text/plain": [
       "6.413599999999994"
      ]
     },
     "execution_count": 11,
     "metadata": {},
     "output_type": "execute_result"
    }
   ],
   "source": [
    "#q3\n",
    "\n",
    "start_a = []\n",
    "for i in range(len(movies)):\n",
    "    if movies[i][\"title\"][0].lower() == \"a\":\n",
    "        start_a.append(movies[i][\"rating\"])\n",
    "\n",
    "sum(start_a)/len(start_a)"
   ]
  },
  {
   "cell_type": "code",
   "execution_count": 12,
   "metadata": {},
   "outputs": [],
   "source": [
    "def title_rating(name):\n",
    "    target_movie = {}\n",
    "    for i in range(len(movies)):\n",
    "        for j in range(len(movies[i][\"actors\"])):\n",
    "            if movies[i][\"actors\"][j] == name:\n",
    "                target_movie[movies[i][\"title\"]] = movies[i][\"rating\"]\n",
    "    return target_movie"
   ]
  },
  {
   "cell_type": "code",
   "execution_count": 13,
   "metadata": {},
   "outputs": [
    {
     "data": {
      "image/png": "[encoded data removed]",
      "text/plain": [
       "<Figure size 432x288 with 1 Axes>"
      ]
     },
     "metadata": {
      "needs_background": "light"
     },
     "output_type": "display_data"
    }
   ],
   "source": [
    "#q4\n",
    "\n",
    "tom_movie = title_rating(\"Tom Cruise\")\n",
    "plot_dict(tom_movie, \"rating\")"
   ]
  },
  {
   "cell_type": "code",
   "execution_count": 14,
   "metadata": {},
   "outputs": [
    {
     "data": {
      "image/png": "[encoded data removed]",
      "text/plain": [
       "<Figure size 432x288 with 1 Axes>"
      ]
     },
     "metadata": {
      "needs_background": "light"
     },
     "output_type": "display_data"
    }
   ],
   "source": [
    "#q5\n",
    "\n",
    "sylvester_movie = title_rating(\"Sylvester Stallone\")\n",
    "plot_dict(sylvester_movie, \"rating\")"
   ]
  },
  {
   "cell_type": "code",
   "execution_count": 15,
   "metadata": {},
   "outputs": [],
   "source": [
    "def get_count(name):\n",
    "    time_count = 0\n",
    "    for i in range(len(movies)):\n",
    "        for j in range(len(movies[i][\"actors\"])):\n",
    "            if movies[i][\"actors\"][j] == name:\n",
    "                time_count += 1\n",
    "    return time_count"
   ]
  },
  {
   "cell_type": "code",
   "execution_count": 16,
   "metadata": {},
   "outputs": [
    {
     "data": {
      "image/png": "[encoded data removed]",
      "text/plain": [
       "<Figure size 432x288 with 1 Axes>"
      ]
     },
     "metadata": {
      "needs_background": "light"
     },
     "output_type": "display_data"
    }
   ],
   "source": [
    "#q6\n",
    "\n",
    "actor_names = [\"John Wayne\",\"Glenn Ford\",\"Danny Glover\"]\n",
    "\n",
    "time_john = get_count(\"John Wayne\")\n",
    "time_glenn = get_count(\"Glenn Ford\")\n",
    "time_danny = get_count(\"Danny Glover\")\n",
    "target_plot = {}\n",
    "times_appear = [time_john,time_glenn,time_danny]\n",
    "for i in range(len(times_appear)):\n",
    "    target_plot[actor_names[i]] = times_appear[i]\n",
    "\n",
    "plot_dict(target_plot, \"Number of Movies\")"
   ]
  },
  {
   "cell_type": "code",
   "execution_count": 17,
   "metadata": {},
   "outputs": [
    {
     "data": {
      "image/png": "[encoded data removed]",
      "text/plain": [
       "<Figure size 432x288 with 1 Axes>"
      ]
     },
     "metadata": {
      "needs_background": "light"
     },
     "output_type": "display_data"
    }
   ],
   "source": [
    "#q7\n",
    "\n",
    "letters = \"abcdefghijklmnopqrstuvwxyz\"\n",
    "letter_to_num_movies = {}\n",
    "for letter in letters:\n",
    "    letter_to_num_movies[letter] = 0\n",
    "for i in range(len(movies)):\n",
    "    for j in range(len(letters)):\n",
    "        if movies[i][\"title\"][0].lower() == letters[j]:\n",
    "            letter_to_num_movies[letters[j]] += 1\n",
    "plot_dict(letter_to_num_movies, \"Number of Movies\")"
   ]
  },
  {
   "cell_type": "code",
   "execution_count": 18,
   "metadata": {},
   "outputs": [],
   "source": [
    "#This is a function I used for p8\n",
    "def unique_search(kind):\n",
    "    store_value = []\n",
    "    target_element = []\n",
    "    final_count = 0\n",
    "    for i in range(len(movies)):\n",
    "        for q in range(len(movies[i][kind])):\n",
    "            if not (movies[i][kind][q] in target_element):\n",
    "                target_element.append(movies[i][kind][q])\n",
    "    return target_element"
   ]
  },
  {
   "cell_type": "code",
   "execution_count": 19,
   "metadata": {
    "scrolled": true
   },
   "outputs": [
    {
     "data": {
      "image/png": "[encoded data removed]",
      "text/plain": [
       "<Figure size 432x288 with 1 Axes>"
      ]
     },
     "metadata": {
      "needs_background": "light"
     },
     "output_type": "display_data"
    }
   ],
   "source": [
    "#q8\n",
    "\n",
    "genre_kinds = unique_search(\"genres\")\n",
    "genre_to_num_movies = {}\n",
    "\n",
    "for kind in genre_kinds:\n",
    "    genre_to_num_movies[kind] = 0\n",
    "for movie in movies:\n",
    "    for genre in movie['genres']:\n",
    "        genre_to_num_movies[genre] += 1\n",
    "plot_dict(genre_to_num_movies,\"Number of Movies\")       "
   ]
  },
  {
   "cell_type": "code",
   "execution_count": 20,
   "metadata": {},
   "outputs": [],
   "source": [
    "def count_alphabet(letter):\n",
    "    alphabet_list = []\n",
    "    for i in range(len(movies)):\n",
    "        if letter == movies[i][\"title\"][0].lower():\n",
    "            alphabet_list.append(movies[i][\"rating\"])\n",
    "    return alphabet_list"
   ]
  },
  {
   "cell_type": "code",
   "execution_count": 21,
   "metadata": {},
   "outputs": [
    {
     "data": {
      "text/plain": [
       "{'a': 6.413599999999994,\n",
       " 'b': 6.312264150943395,\n",
       " 'c': 6.337362637362637,\n",
       " 'd': 6.297101449275363,\n",
       " 'e': 6.128125000000001,\n",
       " 'f': 6.375609756097562,\n",
       " 'g': 6.443181818181819,\n",
       " 'h': 6.476829268292684,\n",
       " 'i': 6.714814814814817,\n",
       " 'j': 6.375,\n",
       " 'k': 6.316666666666666,\n",
       " 'l': 6.172368421052631,\n",
       " 'm': 6.650000000000002,\n",
       " 'n': 6.348148148148147,\n",
       " 'o': 6.5814814814814815,\n",
       " 'p': 6.160377358490566,\n",
       " 'q': 6.7,\n",
       " 'r': 6.371052631578949,\n",
       " 's': 6.216352201257862,\n",
       " 't': 6.5432000000000015,\n",
       " 'u': 6.15,\n",
       " 'v': 6.1000000000000005,\n",
       " 'w': 6.243076923076923,\n",
       " 'y': 6.285714285714286,\n",
       " 'z': 6.833333333333333}"
      ]
     },
     "execution_count": 21,
     "metadata": {},
     "output_type": "execute_result"
    }
   ],
   "source": [
    "#q9\n",
    "\n",
    "letters = \"abcdefghijklmnopqrstuvwyz\" # No x this time!\n",
    "letter_to_num_movies = {}\n",
    "for letter in letters:\n",
    "    letter_to_num_movies[letter] = count_alphabet(letter)\n",
    "    letter_to_num_movies[letter] = sum(letter_to_num_movies[letter])/len(letter_to_num_movies[letter])\n",
    "\n",
    "letter_to_num_movies\n",
    "\n",
    "# Loop through movies and update letter_to_num_movies\n",
    "# Go through letter_to_num_movies to find the average for each letter"
   ]
  },
  {
   "cell_type": "code",
   "execution_count": 22,
   "metadata": {},
   "outputs": [],
   "source": [
    "def count_genres(name):\n",
    "    genres_list = []\n",
    "    for i in range(len(movies)):\n",
    "        for genre in movies[i][\"genres\"]:\n",
    "            if name == genre:\n",
    "                genres_list.append(movies[i][\"rating\"])\n",
    "    return genres_list"
   ]
  },
  {
   "cell_type": "code",
   "execution_count": 23,
   "metadata": {},
   "outputs": [
    {
     "data": {
      "text/plain": [
       "{'Comedy': 6.3146391752577395,\n",
       " 'Drama': 6.529707495429615,\n",
       " 'Romance': 6.474147727272729,\n",
       " 'History': 6.661643835616438,\n",
       " 'Family': 6.512941176470589,\n",
       " 'Mystery': 6.275206611570249,\n",
       " 'Thriller': 5.981999999999998,\n",
       " 'Action': 6.125752508361202,\n",
       " 'Crime': 6.355182072829133,\n",
       " 'Adventure': 6.612367491166079,\n",
       " 'Western': 6.455309734513275,\n",
       " 'Music': 6.3947368421052655,\n",
       " 'Animation': 7.1533333333333315,\n",
       " 'Sport': 6.527083333333334,\n",
       " 'Fantasy': 6.405084745762712,\n",
       " 'War': 6.771717171717175,\n",
       " 'Sci-Fi': 6.104347826086958,\n",
       " 'Horror': 5.724705882352941}"
      ]
     },
     "execution_count": 23,
     "metadata": {},
     "output_type": "execute_result"
    }
   ],
   "source": [
    "#q10\n",
    "#I will use some variables from question 8\n",
    "genre_ave_rating = {}\n",
    "\n",
    "for genres in genre_kinds:\n",
    "    genre_ave_rating[genres] = count_genres(genres)\n",
    "    genre_ave_rating[genres] = sum(genre_ave_rating[genres])/len(genre_ave_rating[genres])\n",
    "\n",
    "genre_ave_rating"
   ]
  },
  {
   "cell_type": "code",
   "execution_count": 24,
   "metadata": {},
   "outputs": [
    {
     "data": {
      "text/plain": [
       "{'Comedy': 484,\n",
       " 'Drama': 1085,\n",
       " 'Romance': 352,\n",
       " 'History': 73,\n",
       " 'Family': 84,\n",
       " 'Mystery': 117,\n",
       " 'Thriller': 243,\n",
       " 'Action': 289,\n",
       " 'Crime': 351,\n",
       " 'Adventure': 280,\n",
       " 'Western': 226,\n",
       " 'Music': 38,\n",
       " 'Animation': 45,\n",
       " 'Sport': 47,\n",
       " 'Fantasy': 58,\n",
       " 'War': 99,\n",
       " 'Sci-Fi': 67,\n",
       " 'Horror': 81}"
      ]
     },
     "execution_count": 24,
     "metadata": {},
     "output_type": "execute_result"
    }
   ],
   "source": [
    "#q11\n",
    "\n",
    "genresabove_dict = {}\n",
    "for kind in genre_kinds:\n",
    "    genresabove_dict[kind] = 0\n",
    "for i in range(len(movies)):\n",
    "    for genre in movies[i][\"genres\"]:\n",
    "        if movies[i][\"rating\"] > 4:\n",
    "            genresabove_dict[genre] += 1\n",
    "                \n",
    "genresabove_dict"
   ]
  },
  {
   "cell_type": "code",
   "execution_count": 25,
   "metadata": {},
   "outputs": [
    {
     "data": {
      "image/png": "[encoded data removed]",
      "text/plain": [
       "<Figure size 432x288 with 1 Axes>"
      ]
     },
     "metadata": {
      "needs_background": "light"
     },
     "output_type": "display_data"
    }
   ],
   "source": [
    "#q12\n",
    "\n",
    "pastdecade_dict = {}\n",
    "\n",
    "for i in range(2010,2019):\n",
    "    pastdecade_dict[i] = 0\n",
    "for year in range(len(movies)):\n",
    "    if movies[year][\"year\"] >= 2010 and movies[year][\"year\"] <= 2018:\n",
    "        if pastdecade_dict[movies[year][\"year\"]] == None:\n",
    "            pastdecade_dict[movies[year][\"year\"]] = 1\n",
    "        else:\n",
    "            pastdecade_dict[movies[year][\"year\"]] += 1\n",
    "\n",
    "plot_dict(pastdecade_dict, \"Number of Releases\")"
   ]
  },
  {
   "cell_type": "code",
   "execution_count": 26,
   "metadata": {},
   "outputs": [
    {
     "data": {
      "text/plain": [
       "[2015]"
      ]
     },
     "execution_count": 26,
     "metadata": {},
     "output_type": "execute_result"
    }
   ],
   "source": [
    "#q13\n",
    "\n",
    "available_years = {}\n",
    "target_element = []\n",
    "for i in range(len(movies)):\n",
    "    if not (movies[i][\"year\"] in available_years):\n",
    "            available_years[movies[i][\"year\"]] = 1\n",
    "    else:\n",
    "        available_years[movies[i][\"year\"]] += 1\n",
    "\n",
    "target_element.append(max(available_years, key=available_years.get))\n",
    "\n",
    "target_element"
   ]
  },
  {
   "cell_type": "code",
   "execution_count": 27,
   "metadata": {},
   "outputs": [],
   "source": [
    "#This function is pretty similar to question 8, but I rewrite due to the requirement of instruction\n",
    "#This function returns the number of movies in this genre\n",
    "\n",
    "def genre_sort(genre_name):\n",
    "    count = 0\n",
    "    for movie in movies:\n",
    "        for genre in movie['genres']:\n",
    "            if genre_name == genre:\n",
    "                count += 1\n",
    "    return count"
   ]
  },
  {
   "cell_type": "code",
   "execution_count": 28,
   "metadata": {},
   "outputs": [
    {
     "data": {
      "text/plain": [
       "['Music', 'Animation', 'Sport', 'Fantasy', 'Sci-Fi']"
      ]
     },
     "execution_count": 28,
     "metadata": {},
     "output_type": "execute_result"
    }
   ],
   "source": [
    "#q14\n",
    "#use the variable from question 8\n",
    "genre_number = {}\n",
    "for genre in genre_kinds:\n",
    "    genre_number[genre] = genre_sort(genre)\n",
    "sorted(genre_number, key = genre_number.get)[0:5]\n",
    "\n"
   ]
  },
  {
   "cell_type": "code",
   "execution_count": 29,
   "metadata": {},
   "outputs": [
    {
     "data": {
      "text/plain": [
       "['Drama', 'Comedy', 'Crime', 'Romance', 'Action']"
      ]
     },
     "execution_count": 29,
     "metadata": {},
     "output_type": "execute_result"
    }
   ],
   "source": [
    "#q15\n",
    "\n",
    "sorted(genre_number, key = genre_number.get, reverse = True)[0:5]"
   ]
  },
  {
   "cell_type": "code",
   "execution_count": 30,
   "metadata": {},
   "outputs": [
    {
     "data": {
      "text/plain": [
       "['John Wayne',\n",
       " 'Eric Roberts',\n",
       " 'Mickey Rooney',\n",
       " 'Anthony Quinn',\n",
       " 'Henry Fonda',\n",
       " 'Randolph Scott',\n",
       " 'Robert De Niro',\n",
       " 'Robert Mitchum',\n",
       " 'Glenn Ford',\n",
       " 'George Sanders']"
      ]
     },
     "execution_count": 30,
     "metadata": {},
     "output_type": "execute_result"
    }
   ],
   "source": [
    "#q16\n",
    "\n",
    "actor_dict = {}\n",
    "for movie in range(len(movies)):\n",
    "    for actor in movies[movie][\"actors\"]:\n",
    "        if not(actor in actor_dict):\n",
    "            actor_dict[actor] = 1\n",
    "        else:\n",
    "            actor_dict[actor] += 1\n",
    "sorted(actor_dict, key = actor_dict.get, reverse = True)[0:10]"
   ]
  },
  {
   "cell_type": "code",
   "execution_count": 31,
   "metadata": {},
   "outputs": [
    {
     "data": {
      "text/plain": [
       "'John Wayne'"
      ]
     },
     "execution_count": 31,
     "metadata": {},
     "output_type": "execute_result"
    }
   ],
   "source": [
    "#q17\n",
    "\n",
    "sorted(actor_dict, key = actor_dict.get, reverse = True)[0]"
   ]
  },
  {
   "cell_type": "code",
   "execution_count": 32,
   "metadata": {},
   "outputs": [
    {
     "data": {
      "text/plain": [
       "1926"
      ]
     },
     "execution_count": 32,
     "metadata": {},
     "output_type": "execute_result"
    }
   ],
   "source": [
    "#q18\n",
    "\n",
    "# single_movie_actor = []\n",
    "# for actor in actor_dict.keys():\n",
    "#     if actor_dict[actor] == 1:\n",
    "#         single_movie_actor.append(actor)\n",
    "\n",
    "# len(single_movie_actor)\n",
    "#x:actor_dict[x]\n",
    "result_dict = sorted(actor_dict.items(),key=lambda item:item[1])\n",
    "num_count  = 0\n",
    "for actor in range(len(result_dict)):\n",
    "    if result_dict[actor][1] != 1:\n",
    "        break\n",
    "    else:\n",
    "        num_count += 1\n",
    "num_count"
   ]
  },
  {
   "cell_type": "code",
   "execution_count": 33,
   "metadata": {},
   "outputs": [
    {
     "data": {
      "text/plain": [
       "['The Godfather', 'The Godfather: Part II', 'The Dark Knight']"
      ]
     },
     "execution_count": 33,
     "metadata": {},
     "output_type": "execute_result"
    }
   ],
   "source": [
    "#q19\n",
    "\n",
    "great_rate = {}\n",
    "for movie in range(len(movies)):\n",
    "    if not(movies[movie][\"title\"] in great_rate):\n",
    "        great_rate[movies[movie][\"title\"]] = movies[movie][\"rating\"]\n",
    "        \n",
    "sorted(great_rate, key = great_rate.get, reverse = True)[0:3]  "
   ]
  },
  {
   "cell_type": "code",
   "execution_count": 34,
   "metadata": {},
   "outputs": [
    {
     "data": {
      "text/plain": [
       "['Silk',\n",
       " 'Stealing Las Vegas',\n",
       " 'Singularity',\n",
       " 'Body and Soul',\n",
       " 'Garden of the Dead',\n",
       " 'Beyond the Ring',\n",
       " \"Hitman's Run\",\n",
       " 'Betrayal',\n",
       " \"Jake's Road\",\n",
       " 'The Trouble with Spies',\n",
       " '2 Bedroom 1 Bath',\n",
       " 'Victim of Desire',\n",
       " 'Arsenal',\n",
       " 'Woman of Desire',\n",
       " 'Sweet Justice',\n",
       " 'Falcon Beach',\n",
       " 'The Flying Dutchman',\n",
       " 'The Mark: Redemption',\n",
       " 'The Steam Experiment']"
      ]
     },
     "execution_count": 34,
     "metadata": {},
     "output_type": "execute_result"
    }
   ],
   "source": [
    "#q20\n",
    "\n",
    "sorted(great_rate, key = great_rate.get)[0:19]  "
   ]
  },
  {
   "cell_type": "code",
   "execution_count": null,
   "metadata": {},
   "outputs": [],
   "source": []
  }
 ],
 "metadata": {
  "kernelspec": {
   "display_name": "Python 3",
   "language": "python",
   "name": "python3"
  },
  "language_info": {
   "codemirror_mode": {
    "name": "ipython",
    "version": 3
   },
   "file_extension": ".py",
   "mimetype": "text/x-python",
   "name": "python",
   "nbconvert_exporter": "python",
   "pygments_lexer": "ipython3",
   "version": "3.8.5"
  }
 },
 "nbformat": 4,
 "nbformat_minor": 4
}
