{
 "cells": [
  {
   "cell_type": "code",
   "execution_count": 1,
   "metadata": {},
   "outputs": [],
   "source": [
    "# project: p9\n",
    "# submitter: HJIANG248@wisc.edu\n",
    "# partner: hli738@wisc.edu"
   ]
  },
  {
   "cell_type": "code",
   "execution_count": 2,
   "metadata": {},
   "outputs": [],
   "source": [
    "import csv\n",
    "import copy \n",
    "import matplotlib as plt\n",
    "import pandas\n",
    "import copy\n",
    "# Allows you to render matplotlib graphs in the same notebook\n",
    "%matplotlib inline \n",
    "\n",
    "def plot_dict(d, label=\"Please Label Me!!!\"):\n",
    "    ax = pandas.Series(d).sort_index().plot.bar(color=\"black\", fontsize=16)\n",
    "    ax.set_ylabel(label, fontsize=16)"
   ]
  },
  {
   "cell_type": "code",
   "execution_count": 3,
   "metadata": {},
   "outputs": [],
   "source": [
    "def process_csv(filename):\n",
    "    exampleFile = open(filename, encoding=\"utf-8\")\n",
    "    exampleReader = csv.reader(exampleFile)\n",
    "    exampleData = list(exampleReader)\n",
    "    exampleFile.close()\n",
    "    return exampleData\n",
    "\n",
    "def get_mapping(path):\n",
    "    data = process_csv(path)\n",
    "    output = {}\n",
    "    for row in data:\n",
    "        output[row[0]]=row[1]\n",
    "    return output\n",
    "\n",
    "def get_raw_movies(path):\n",
    "    data = process_csv(path)\n",
    "    header = data[0]\n",
    "    movie = data[1:]\n",
    "    output = []\n",
    "    for row in movie:\n",
    "        temp = {}\n",
    "        for category in header:\n",
    "            if category == 'actors' or category == 'genres' or category == 'directors':\n",
    "                temp[category] = row[header.index(category)].split(',')\n",
    "            elif category == 'year':\n",
    "                temp[category] = int(row[header.index(category)])\n",
    "            elif category == 'rating':\n",
    "                temp[category] = float(row[header.index(category)])\n",
    "            else:\n",
    "                temp[category] = row[header.index(category)]\n",
    "        output.append(temp)\n",
    "    return output\n",
    "\n",
    "def get_movies(path_movie, path_map):\n",
    "    film = get_raw_movies(path_movie)\n",
    "    mapping = get_mapping(path_map) \n",
    "    for temp in film:\n",
    "        for key in temp:\n",
    "            if key == 'directors' or key == 'actors':\n",
    "                for name in temp[key]:\n",
    "                    match_name = None\n",
    "                    for ID in mapping: # match each id with a name and replace\n",
    "                        if ID == name:\n",
    "                            match_name = mapping[ID]\n",
    "                    idx = temp[key].index(name)\n",
    "                    temp[key][idx] = match_name  #replace by name  \n",
    "            if key == 'title':    \n",
    "                title_id = temp['title']\n",
    "                match_name = None\n",
    "                for ID in mapping:\n",
    "                    if ID == title_id:\n",
    "                        match_name = mapping[ID]\n",
    "                temp['title'] = match_name\n",
    "    return film"
   ]
  },
  {
   "cell_type": "code",
   "execution_count": 4,
   "metadata": {},
   "outputs": [
    {
     "ename": "FileNotFoundError",
     "evalue": "[Errno 2] No such file or directory: 'movies.csv'",
     "output_type": "error",
     "traceback": [
      "\u001b[1;31m---------------------------------------------------------------------------\u001b[0m",
      "\u001b[1;31mFileNotFoundError\u001b[0m                         Traceback (most recent call last)",
      "\u001b[1;32m<ipython-input-4-9ba6dbb823eb>\u001b[0m in \u001b[0;36m<module>\u001b[1;34m\u001b[0m\n\u001b[1;32m----> 1\u001b[1;33m \u001b[0mmovies\u001b[0m \u001b[1;33m=\u001b[0m \u001b[0mget_movies\u001b[0m\u001b[1;33m(\u001b[0m\u001b[1;34m\"movies.csv\"\u001b[0m\u001b[1;33m,\u001b[0m \u001b[1;34m\"mapping.csv\"\u001b[0m\u001b[1;33m)\u001b[0m\u001b[1;33m\u001b[0m\u001b[1;33m\u001b[0m\u001b[0m\n\u001b[0m",
      "\u001b[1;32m<ipython-input-3-ef8ef8f3578f>\u001b[0m in \u001b[0;36mget_movies\u001b[1;34m(path_movie, path_map)\u001b[0m\n\u001b[0;32m     33\u001b[0m \u001b[1;33m\u001b[0m\u001b[0m\n\u001b[0;32m     34\u001b[0m \u001b[1;32mdef\u001b[0m \u001b[0mget_movies\u001b[0m\u001b[1;33m(\u001b[0m\u001b[0mpath_movie\u001b[0m\u001b[1;33m,\u001b[0m \u001b[0mpath_map\u001b[0m\u001b[1;33m)\u001b[0m\u001b[1;33m:\u001b[0m\u001b[1;33m\u001b[0m\u001b[1;33m\u001b[0m\u001b[0m\n\u001b[1;32m---> 35\u001b[1;33m     \u001b[0mfilm\u001b[0m \u001b[1;33m=\u001b[0m \u001b[0mget_raw_movies\u001b[0m\u001b[1;33m(\u001b[0m\u001b[0mpath_movie\u001b[0m\u001b[1;33m)\u001b[0m\u001b[1;33m\u001b[0m\u001b[1;33m\u001b[0m\u001b[0m\n\u001b[0m\u001b[0;32m     36\u001b[0m     \u001b[0mmapping\u001b[0m \u001b[1;33m=\u001b[0m \u001b[0mget_mapping\u001b[0m\u001b[1;33m(\u001b[0m\u001b[0mpath_map\u001b[0m\u001b[1;33m)\u001b[0m\u001b[1;33m\u001b[0m\u001b[1;33m\u001b[0m\u001b[0m\n\u001b[0;32m     37\u001b[0m     \u001b[1;32mfor\u001b[0m \u001b[0mtemp\u001b[0m \u001b[1;32min\u001b[0m \u001b[0mfilm\u001b[0m\u001b[1;33m:\u001b[0m\u001b[1;33m\u001b[0m\u001b[1;33m\u001b[0m\u001b[0m\n",
      "\u001b[1;32m<ipython-input-3-ef8ef8f3578f>\u001b[0m in \u001b[0;36mget_raw_movies\u001b[1;34m(path)\u001b[0m\n\u001b[0;32m     14\u001b[0m \u001b[1;33m\u001b[0m\u001b[0m\n\u001b[0;32m     15\u001b[0m \u001b[1;32mdef\u001b[0m \u001b[0mget_raw_movies\u001b[0m\u001b[1;33m(\u001b[0m\u001b[0mpath\u001b[0m\u001b[1;33m)\u001b[0m\u001b[1;33m:\u001b[0m\u001b[1;33m\u001b[0m\u001b[1;33m\u001b[0m\u001b[0m\n\u001b[1;32m---> 16\u001b[1;33m     \u001b[0mdata\u001b[0m \u001b[1;33m=\u001b[0m \u001b[0mprocess_csv\u001b[0m\u001b[1;33m(\u001b[0m\u001b[0mpath\u001b[0m\u001b[1;33m)\u001b[0m\u001b[1;33m\u001b[0m\u001b[1;33m\u001b[0m\u001b[0m\n\u001b[0m\u001b[0;32m     17\u001b[0m     \u001b[0mheader\u001b[0m \u001b[1;33m=\u001b[0m \u001b[0mdata\u001b[0m\u001b[1;33m[\u001b[0m\u001b[1;36m0\u001b[0m\u001b[1;33m]\u001b[0m\u001b[1;33m\u001b[0m\u001b[1;33m\u001b[0m\u001b[0m\n\u001b[0;32m     18\u001b[0m     \u001b[0mmovie\u001b[0m \u001b[1;33m=\u001b[0m \u001b[0mdata\u001b[0m\u001b[1;33m[\u001b[0m\u001b[1;36m1\u001b[0m\u001b[1;33m:\u001b[0m\u001b[1;33m]\u001b[0m\u001b[1;33m\u001b[0m\u001b[1;33m\u001b[0m\u001b[0m\n",
      "\u001b[1;32m<ipython-input-3-ef8ef8f3578f>\u001b[0m in \u001b[0;36mprocess_csv\u001b[1;34m(filename)\u001b[0m\n\u001b[0;32m      1\u001b[0m \u001b[1;32mdef\u001b[0m \u001b[0mprocess_csv\u001b[0m\u001b[1;33m(\u001b[0m\u001b[0mfilename\u001b[0m\u001b[1;33m)\u001b[0m\u001b[1;33m:\u001b[0m\u001b[1;33m\u001b[0m\u001b[1;33m\u001b[0m\u001b[0m\n\u001b[1;32m----> 2\u001b[1;33m     \u001b[0mexampleFile\u001b[0m \u001b[1;33m=\u001b[0m \u001b[0mopen\u001b[0m\u001b[1;33m(\u001b[0m\u001b[0mfilename\u001b[0m\u001b[1;33m,\u001b[0m \u001b[0mencoding\u001b[0m\u001b[1;33m=\u001b[0m\u001b[1;34m\"utf-8\"\u001b[0m\u001b[1;33m)\u001b[0m\u001b[1;33m\u001b[0m\u001b[1;33m\u001b[0m\u001b[0m\n\u001b[0m\u001b[0;32m      3\u001b[0m     \u001b[0mexampleReader\u001b[0m \u001b[1;33m=\u001b[0m \u001b[0mcsv\u001b[0m\u001b[1;33m.\u001b[0m\u001b[0mreader\u001b[0m\u001b[1;33m(\u001b[0m\u001b[0mexampleFile\u001b[0m\u001b[1;33m)\u001b[0m\u001b[1;33m\u001b[0m\u001b[1;33m\u001b[0m\u001b[0m\n\u001b[0;32m      4\u001b[0m     \u001b[0mexampleData\u001b[0m \u001b[1;33m=\u001b[0m \u001b[0mlist\u001b[0m\u001b[1;33m(\u001b[0m\u001b[0mexampleReader\u001b[0m\u001b[1;33m)\u001b[0m\u001b[1;33m\u001b[0m\u001b[1;33m\u001b[0m\u001b[0m\n\u001b[0;32m      5\u001b[0m     \u001b[0mexampleFile\u001b[0m\u001b[1;33m.\u001b[0m\u001b[0mclose\u001b[0m\u001b[1;33m(\u001b[0m\u001b[1;33m)\u001b[0m\u001b[1;33m\u001b[0m\u001b[1;33m\u001b[0m\u001b[0m\n",
      "\u001b[1;31mFileNotFoundError\u001b[0m: [Errno 2] No such file or directory: 'movies.csv'"
     ]
    }
   ],
   "source": [
    "movies = get_movies(\"movies.csv\", \"mapping.csv\")"
   ]
  },
  {
   "cell_type": "code",
   "execution_count": null,
   "metadata": {},
   "outputs": [],
   "source": [
    "movies[:2]"
   ]
  },
  {
   "cell_type": "code",
   "execution_count": null,
   "metadata": {},
   "outputs": [],
   "source": [
    "#q1\n",
    "\n",
    "x = 0\n",
    "y = 0\n",
    "\n",
    "for movie in movies:\n",
    "    if len(movie[\"actors\"]) < 4:\n",
    "        x = x + movie[\"rating\"]\n",
    "        y = y + 1\n",
    "\n",
    "x / y"
   ]
  },
  {
   "cell_type": "code",
   "execution_count": null,
   "metadata": {},
   "outputs": [],
   "source": [
    "#q2\n",
    "x = 0\n",
    "y = 0\n",
    "\n",
    "for movie in movies:\n",
    "    if len(movie[\"actors\"]) > 5:\n",
    "        x = x + movie[\"rating\"]\n",
    "        y = y + 1\n",
    "\n",
    "x / y"
   ]
  },
  {
   "cell_type": "code",
   "execution_count": null,
   "metadata": {},
   "outputs": [],
   "source": [
    "#q3\n",
    "x = 0\n",
    "y = 0\n",
    "\n",
    "for movie in movies:\n",
    "    if movie[\"title\"][0].lower() == 'a':\n",
    "        x = x +  movie[\"rating\"]\n",
    "        y = y + 1\n",
    "\n",
    "x / y"
   ]
  },
  {
   "cell_type": "code",
   "execution_count": null,
   "metadata": {},
   "outputs": [],
   "source": [
    "#q4\n",
    "p4 = dict()\n",
    "\n",
    "for movie in movies:\n",
    "    if \"Tom Cruise\" in movie[\"actors\"]:\n",
    "        p4[movie[\"title\"]] = movie[\"rating\"]\n",
    "plot_dict(p4, \"rating\")"
   ]
  },
  {
   "cell_type": "code",
   "execution_count": null,
   "metadata": {},
   "outputs": [],
   "source": [
    "#q5\n",
    "p5 = dict()\n",
    "\n",
    "for movie in movies:\n",
    "    if \"Sylvester Stallone\" in movie[\"actors\"]:\n",
    "        p5[movie[\"title\"]] = movie[\"rating\"]\n",
    "\n",
    "plot_dict(p5, \"rating\")"
   ]
  },
  {
   "cell_type": "code",
   "execution_count": null,
   "metadata": {},
   "outputs": [],
   "source": [
    "#q6\n",
    "p6 = dict()\n",
    "\n",
    "def calc_act(actor):\n",
    "    x = 0\n",
    "    for movie in movies:\n",
    "        if actor in movie[\"actors\"]:\n",
    "            x = x + 1\n",
    "    return x\n",
    "\n",
    "p6[\"Danny Glover\"] = calc_act(\"Danny Glover\")\n",
    "p6[\"John Wayne\"] = calc_act(\"John Wayne\")\n",
    "p6[\"Glenn Ford\"] = calc_act(\"Glenn Ford\")\n",
    "\n",
    "\n",
    "plot_dict(p6, \"Number of Movies\")"
   ]
  },
  {
   "cell_type": "code",
   "execution_count": null,
   "metadata": {},
   "outputs": [],
   "source": [
    "#q7\n",
    "letter_to_num = {}\n",
    "\n",
    "def calc_num(letter):\n",
    "    x = 0\n",
    "    for movie in movies:\n",
    "        if movie[\"title\"].lower().startswith(letter):\n",
    "            x = x + 1\n",
    "    return x\n",
    "\n",
    "letters = \"abcdefghijklmnopqrstuvwxyz\"\n",
    "for letter in letters:\n",
    "    letter_to_num[letter] = calc_num(letter)\n",
    "    \n",
    "plot_dict(letter_to_num, \"Number of Movies\")"
   ]
  },
  {
   "cell_type": "code",
   "execution_count": null,
   "metadata": {},
   "outputs": [],
   "source": [
    "#q8\n",
    "\n",
    "genre_num = {}\n",
    "\n",
    "def calc_genre(genre):\n",
    "    x = 0\n",
    "    for movie in movies:\n",
    "        if genre in movie[\"genres\"]:\n",
    "            x = x + 1\n",
    "    return x\n",
    "\n",
    "\n",
    "for movie in movies:\n",
    "    for genre in movie['genres']:\n",
    "        if genre not in genre_num:\n",
    "            genre_num[genre] = calc_genre(genre)\n",
    "        else:\n",
    "            pass\n",
    "\n",
    "plot_dict(genre_num, \"Number of Movies\")"
   ]
  },
  {
   "cell_type": "code",
   "execution_count": null,
   "metadata": {},
   "outputs": [],
   "source": [
    "#q9\n",
    "letter_avg_rating = {}\n",
    "\n",
    "def avg_rat (letter):\n",
    "    rating = 0\n",
    "    x = 0\n",
    "    for movie in movies:\n",
    "        if movie[\"title\"].lower().startswith(letter):\n",
    "            rating = rating + movie[\"rating\"]\n",
    "            x = x + 1\n",
    "    return rating / x # we can also use calc_num(letter), but that is slower than the way we're using here\n",
    "\n",
    "letters = \"abcdefghijklmnopqrstuvwyz\"\n",
    "for letter in letters:\n",
    "    letter_avg_rating[letter] = avg_rat(letter)\n",
    "\n",
    "letter_avg_rating"
   ]
  },
  {
   "cell_type": "code",
   "execution_count": null,
   "metadata": {},
   "outputs": [],
   "source": [
    "#q10\n",
    "genre_avg_rating_dict = {}\n",
    "\n",
    "def avg_genre_rating(genre):\n",
    "    rating = 0\n",
    "    x = 0\n",
    "    for movie in movies:\n",
    "        if genre in movie[\"genres\"]:\n",
    "            x = x + 1\n",
    "            rating += movie[\"rating\"]\n",
    "    return rating / x\n",
    "\n",
    "\n",
    "for genre in genre_num:\n",
    "    genre_avg_rating_dict[genre] = avg_genre_rating(genre)\n",
    "    \n",
    "genre_avg_rating_dict"
   ]
  },
  {
   "cell_type": "code",
   "execution_count": null,
   "metadata": {},
   "outputs": [],
   "source": [
    "#q11\n",
    "\n",
    "num_movies = {}\n",
    "\n",
    "def calc_genre_higher(genre, num):\n",
    "    x = 0\n",
    "    for movie in movies:\n",
    "        if genre in movie[\"genres\"] and movie[\"rating\"] > num:\n",
    "            x =  x + 1\n",
    "    return x\n",
    "\n",
    "\n",
    "for movie in movies:\n",
    "    for genre in movie['genres']:\n",
    "        if genre not in num_movies:\n",
    "            num_movies[genre] = calc_genre_higher(genre, 4)\n",
    "        else:    #Like Q8, this avoids repeated counts\n",
    "            pass\n",
    "\n",
    "num_movies"
   ]
  },
  {
   "cell_type": "code",
   "execution_count": null,
   "metadata": {},
   "outputs": [],
   "source": [
    "#q12\n",
    "q12 = {}\n",
    "def release_year(y):\n",
    "    x = 0\n",
    "    for movie in movies:\n",
    "        if movie[\"year\"] == y:\n",
    "            x = x + 1\n",
    "    return x\n",
    "\n",
    "for i in range(2010, 2021):     # range(2010, 2021) includes 2010 & 2020, but creat empty list for 2019 & 2020\n",
    "    q12[i] = release_year(i)          \n",
    "\n",
    "q12_final = copy.deepcopy(q12)  # The Q12.pny ansewr from P9 instruction does not include 2019 & 2020\n",
    "for year in q12:                # Dropping the year with no film data to have the answer make sense\n",
    "    if q12[year] == 0:\n",
    "        q12_final.pop(year)\n",
    "\n",
    "plot_dict(q12_final, \"Number of Releases\")   "
   ]
  },
  {
   "cell_type": "code",
   "execution_count": null,
   "metadata": {},
   "outputs": [],
   "source": [
    "#q13\n",
    "olddest = 0\n",
    "olddest_list = []\n",
    "for i in range(0, 2019):\n",
    "    if release_year(i) > olddest:\n",
    "        olddest = release_year(i) \n",
    "for i in range(0, 2019):\n",
    "    if release_year(i) == olddest:\n",
    "        olddest_list.append(i)\n",
    "olddest_list"
   ]
  },
  {
   "cell_type": "markdown",
   "metadata": {},
   "source": [
    "#q14\n",
    "```\n",
    "def genre_cat(type):\n",
    "    x = 0\n",
    "    for movie in movies:\n",
    "        if type in movie[\"genres\"]:\n",
    "            x = x + 1\n",
    "    return x\n",
    "\n",
    "genres_list = []\n",
    "\n",
    "for movie in movies:\n",
    "    genres_list.extend(movie[\"genres\"])\n",
    "\n",
    "genres_list = list(set(genres_list))\n",
    "sorted(genres_list, key = genre_cat)[:5]\n",
    "```"
   ]
  },
  {
   "cell_type": "code",
   "execution_count": null,
   "metadata": {},
   "outputs": [],
   "source": [
    "# q14\n",
    "# Another method\n",
    "# we have num of each genre in q8, which is called genre_num\n",
    "name_list = []\n",
    "for key in genre_num:\n",
    "    name_list.append(key)\n",
    "\n",
    "def num_extract(genre):\n",
    "    return genre_num[genre]\n",
    "\n",
    "name_list.sort(key = num_extract)\n",
    "name_list[:5]\n"
   ]
  },
  {
   "cell_type": "code",
   "execution_count": null,
   "metadata": {},
   "outputs": [],
   "source": [
    "#q15\n",
    "name_list[-5:]"
   ]
  },
  {
   "cell_type": "code",
   "execution_count": null,
   "metadata": {},
   "outputs": [],
   "source": [
    "#q16\n",
    "actors = []\n",
    "\n",
    "for movie in movies:\n",
    "    actors.extend(movie[\"actors\"])\n",
    "actors = list(set(actors))\n",
    "\n",
    "q16 = sorted(actors, key = calc_act, reverse = True)[:10]\n",
    "q16"
   ]
  },
  {
   "cell_type": "code",
   "execution_count": null,
   "metadata": {},
   "outputs": [],
   "source": [
    "#q17\n",
    "q16[0]"
   ]
  },
  {
   "cell_type": "code",
   "execution_count": null,
   "metadata": {},
   "outputs": [],
   "source": [
    "#q18\n",
    "# q18 = []\n",
    "# for actor in actors:\n",
    "#     if calc_act(actor) == 1:\n",
    "#         q18.append(actor)\n",
    "# len(q18)\n",
    "\n",
    "sorted(actor_dict, key = actor_dict==1)"
   ]
  },
  {
   "cell_type": "code",
   "execution_count": null,
   "metadata": {},
   "outputs": [],
   "source": [
    "#q19\n",
    "def sort_rate(movie):\n",
    "    return movie[\"rating\"]\n",
    "t3 = sorted(movies, key = sort_rate, reverse = True)[:3]\n",
    "t3_movies = []\n",
    "for movie in t3:\n",
    "    t3_movies.append(movie[\"title\"])\n",
    "t3_movies "
   ]
  },
  {
   "cell_type": "code",
   "execution_count": null,
   "metadata": {},
   "outputs": [],
   "source": [
    "#q20\n",
    "worst_19 = sorted(movies, key = sort_rate)[:19]\n",
    "worst_movies = []\n",
    "for movie in worst_19:\n",
    "    worst_movies.append(movie[\"title\"])\n",
    "worst_movies"
   ]
  }
 ],
 "metadata": {
  "kernelspec": {
   "display_name": "Python 3",
   "language": "python",
   "name": "python3"
  },
  "language_info": {
   "codemirror_mode": {
    "name": "ipython",
    "version": 3
   },
   "file_extension": ".py",
   "mimetype": "text/x-python",
   "name": "python",
   "nbconvert_exporter": "python",
   "pygments_lexer": "ipython3",
   "version": "3.8.5"
  }
 },
 "nbformat": 4,
 "nbformat_minor": 4
}
