{
 "cells": [
  {
   "cell_type": "code",
   "execution_count": 1,
   "metadata": {},
   "outputs": [],
   "source": [
    "# project: p6\n",
    "# submitter: zchen697\n",
    "# partner: none"
   ]
  },
  {
   "cell_type": "code",
   "execution_count": 2,
   "metadata": {},
   "outputs": [],
   "source": [
    "import csv"
   ]
  },
  {
   "cell_type": "code",
   "execution_count": 3,
   "metadata": {},
   "outputs": [],
   "source": [
    "from math import *"
   ]
  },
  {
   "cell_type": "code",
   "execution_count": 4,
   "metadata": {},
   "outputs": [],
   "source": [
    "from numpy import *"
   ]
  },
  {
   "cell_type": "code",
   "execution_count": 5,
   "metadata": {},
   "outputs": [],
   "source": [
    "# copied from https://automatetheboringstuff.com/chapter14/\n",
    "def process_csv(filename):\n",
    "    exampleFile = open(filename, encoding=\"utf-8\")\n",
    "    exampleReader = csv.reader(exampleFile)\n",
    "    exampleData = list(exampleReader)\n",
    "    exampleFile.close()\n",
    "    return exampleData"
   ]
  },
  {
   "cell_type": "code",
   "execution_count": 6,
   "metadata": {},
   "outputs": [],
   "source": [
    "# use process_csv to pull out the header and data rows\n",
    "csv_rows = process_csv(\"airbnb.csv\")\n",
    "csv_header = csv_rows[0]\n",
    "csv_data = csv_rows[1:]"
   ]
  },
  {
   "cell_type": "code",
   "execution_count": 7,
   "metadata": {},
   "outputs": [
    {
     "name": "stdout",
     "output_type": "stream",
     "text": [
      "neighborhood_group\n",
      "Brooklyn\n",
      "Manhattan\n",
      "Queens\n",
      "Staten Island\n",
      "Bronx\n"
     ]
    },
    {
     "data": {
      "text/plain": [
       "['Brooklyn', 'Manhattan', 'Queens', 'Staten Island', 'Bronx']"
      ]
     },
     "execution_count": 7,
     "metadata": {},
     "output_type": "execute_result"
    }
   ],
   "source": [
    "#q1\n",
    "\n",
    "neigroup = [x[csv_header.index(\"neighborhood_group\")] for x in csv_rows]\n",
    "#csv_header.index(\"neighborhood_group\")\n",
    "neigroupfinal = []\n",
    "for i in neigroup:\n",
    "    if not i in neigroupfinal:\n",
    "        neigroupfinal.append(i)\n",
    "        print(i)\n",
    "neigroupfinal.remove(\"neighborhood_group\")\n",
    "neigroupfinal"
   ]
  },
  {
   "cell_type": "code",
   "execution_count": 8,
   "metadata": {},
   "outputs": [
    {
     "data": {
      "text/plain": [
       "152.7206871868289"
      ]
     },
     "execution_count": 8,
     "metadata": {},
     "output_type": "execute_result"
    }
   ],
   "source": [
    "#q2\n",
    "\n",
    "price_sum = 0\n",
    "number_count = 0\n",
    "pricecheck = [x[csv_header.index(\"price\")] for x in csv_rows]\n",
    "pricecheck.pop(0)\n",
    "for i in pricecheck:\n",
    "    if i != \"NULL\":\n",
    "        price_sum += int(i)\n",
    "        number_count += 1\n",
    "    elif i == \"NULL\":\n",
    "        continue\n",
    "\n",
    "ave = price_sum / number_count\n",
    "ave\n",
    "        "
   ]
  },
  {
   "cell_type": "code",
   "execution_count": 9,
   "metadata": {},
   "outputs": [
    {
     "data": {
      "text/plain": [
       "368"
      ]
     },
     "execution_count": 9,
     "metadata": {},
     "output_type": "execute_result"
    }
   ],
   "source": [
    "#q3\n",
    "\n",
    "location_check = [x[csv_header.index(\"neighborhood\")] for x in csv_rows]\n",
    "location_check.pop(0)\n",
    "china_count = 0\n",
    "for i in location_check:\n",
    "    if i == \"Chinatown\":\n",
    "        china_count += 1\n",
    "        \n",
    "china_count"
   ]
  },
  {
   "cell_type": "code",
   "execution_count": 10,
   "metadata": {
    "scrolled": false
   },
   "outputs": [
    {
     "data": {
      "text/plain": [
       "['UWS MANHATTAN APT FOR SUPERBOWL WE',\n",
       " 'SuperBowl West Village Apartment',\n",
       " 'SUPERBOWL!! 2 Bd, 2 Ba w Roof Deck!',\n",
       " '1500 sq ft apt sleeps 8 - SuperBowl',\n",
       " 'Superbowl Studio Upper West Side',\n",
       " '1BR Superbowl rental Hells Kitchen',\n",
       " 'Superbowl - NYC Apartment',\n",
       " 'Tribeca Loft for Superbowl Wknd',\n",
       " 'NYC SuperBowl Wk 5 Bdrs River View ',\n",
       " 'Downtown NY Apt - SuperBowl Weekend',\n",
       " 'SuperBowl Penthouse Loft 3,000 sqft',\n",
       " 'Superbowl in the West Village',\n",
       " 'SUPERBOWLSUNDAY! 3BLOCK FROM TIMESQ',\n",
       " 'Super Apt for Superbowl',\n",
       " 'PERFECT SUPERBOWL STAY',\n",
       " 'MANHATTAN SUPERBOWL ACCOMODATION',\n",
       " 'SuperBowl Weekend Rental! 3 BR/1ba']"
      ]
     },
     "execution_count": 10,
     "metadata": {},
     "output_type": "execute_result"
    }
   ],
   "source": [
    "#q4\n",
    "\n",
    "name_check = [x[csv_header.index(\"name\")] for x in csv_rows]\n",
    "name_check1 = [x[csv_header.index(\"name\")] for x in csv_rows]\n",
    "name_check.pop(0)\n",
    "name_check = [x.lower() for x in name_check if isinstance(x,str)]\n",
    "super_name = []\n",
    "number1 = []\n",
    "#number1.append(name_check.index(\"superbowl\") for)\n",
    "\n",
    "#print(name_check)\n",
    "for index, i in enumerate(name_check):\n",
    "    if \"superbowl\" in i:\n",
    "        super_name.append(i)\n",
    "        number1.append(index)\n",
    "        \n",
    "final_name = []\n",
    "for i in number1:\n",
    "    final_name.append(name_check1[i+1])\n",
    "\n",
    "final_name"
   ]
  },
  {
   "cell_type": "code",
   "execution_count": 11,
   "metadata": {},
   "outputs": [
    {
     "data": {
      "text/plain": [
       "['Dream Room in Sunnyside New York',\n",
       " 'The Dream Room near Barclays Center',\n",
       " 'Dream Room in Modern Apartment',\n",
       " 'Lower East Dream Room!',\n",
       " 'The Dream Room (Private Room)',\n",
       " 'DREAM ROOM: gorgegous renovated 1bd, 1 bath',\n",
       " 'Exclusive Dream room 8 mins from JFK Smoking OK!',\n",
       " 'King Size Dream Room',\n",
       " 'KingSize Dream Room']"
      ]
     },
     "execution_count": 11,
     "metadata": {},
     "output_type": "execute_result"
    }
   ],
   "source": [
    "#q5\n",
    "\n",
    "name_check = [x[csv_header.index(\"name\")] for x in csv_rows]\n",
    "name_check1 = [x[csv_header.index(\"name\")] for x in csv_rows]\n",
    "name_check.pop(0)\n",
    "name_check = [x.lower() for x in name_check if isinstance(x,str)]\n",
    "super_name = []\n",
    "number1 = []\n",
    "for index, i in enumerate(name_check):\n",
    "    if \"dream room\" in i:\n",
    "        super_name.append(i)\n",
    "        number1.append(index)\n",
    "        \n",
    "final_name = []\n",
    "for i in number1:\n",
    "    final_name.append(name_check1[i+1])\n",
    "\n",
    "final_name"
   ]
  },
  {
   "cell_type": "code",
   "execution_count": 12,
   "metadata": {},
   "outputs": [
    {
     "data": {
      "text/plain": [
       "['One Bedroom Mini studio - Free WIFI',\n",
       " 'Great Chelsea Location, Couch/2nd bed, Free WiFi',\n",
       " 'Private 2 BR APT: Free WIFI & JACUZZI',\n",
       " 'PRIVATE 1BR APT: Free WIFI & DIRECT TV',\n",
       " 'Landmark 1 Bedroom has 2 beds, Free WiFi',\n",
       " 'Modern and Safe Place,Free Wifi',\n",
       " 'Newly renovated 2 bedroom with FREE WIFI',\n",
       " '*NO GUEST SERVICE FEE* Beekman Tower Studio with Queen Bed & Free Wifi',\n",
       " '*NO GUEST SERVICE FEE* Beekman Tower One Bedroom Suite with Queen Bed & Free Wifi',\n",
       " 'Sunny Hudson Yards/ Chelsea Studio, Free WiFi',\n",
       " 'Private Bedroom in MANHATTAN (Free Wifi)',\n",
       " 'J- LUXURY SHARED ROOM, AC FREE WIFI+CABLE GARDEN',\n",
       " 'J- *LUXURY SHARED ROOM AC FREE WIFI CABLE, GARDEN',\n",
       " 'J- **LUXURY SHARED ROOM 2PPL FREE WIFI+CABLE+AC',\n",
       " '5min walk to L train - Free WiFi & Cleaning',\n",
       " 'J- HOTEL STYLE SHARE ROOM FOR 2PPL FREE WIFI CABLE',\n",
       " 'Explore NYC From Our Private Studio w/Free Wifi',\n",
       " 'Staten Island - Free Wifi, Parking Space, Near NYC',\n",
       " 'BIG BEDROOM CLOSE TO LA GUARDIA AIRPORT FREE WIFI',\n",
       " 'J- COZY ROOM FOR 1 FEMALE FREE WIFI & COFFEE']"
      ]
     },
     "execution_count": 12,
     "metadata": {},
     "output_type": "execute_result"
    }
   ],
   "source": [
    "#q6\n",
    "\n",
    "name_check = [x[csv_header.index(\"name\")] for x in csv_rows]\n",
    "name_check1 = [x[csv_header.index(\"name\")] for x in csv_rows]\n",
    "name_check.pop(0)\n",
    "name_check = [x.lower() for x in name_check if isinstance(x,str)]\n",
    "super_name = []\n",
    "number1 = []\n",
    "for index, i in enumerate(name_check):\n",
    "    if \"free wifi\" in i:\n",
    "        super_name.append(i)\n",
    "        number1.append(index)\n",
    "        \n",
    "final_name = []\n",
    "for i in number1:\n",
    "    final_name.append(name_check1[i+1])\n",
    "\n",
    "final_name"
   ]
  },
  {
   "cell_type": "code",
   "execution_count": 13,
   "metadata": {},
   "outputs": [],
   "source": [
    "def check_anagrams(a,b):\n",
    "    l1 = list(a)\n",
    "    l2 = list(b)\n",
    "    if len(a) != len(b):\n",
    "        return False\n",
    "    else:\n",
    "        for i in l1:\n",
    "            if i in l2:\n",
    "                l2.remove(i)\n",
    "        if l2:\n",
    "            return False\n",
    "        else:\n",
    "            return True\n"
   ]
  },
  {
   "cell_type": "code",
   "execution_count": 14,
   "metadata": {},
   "outputs": [
    {
     "data": {
      "text/plain": [
       "['Yolande']"
      ]
     },
     "execution_count": 14,
     "metadata": {},
     "output_type": "execute_result"
    }
   ],
   "source": [
    "#q7\n",
    "\n",
    "host_name = [x[csv_header.index(\"host_name\")] for x in csv_rows]\n",
    "host_name1 = [x[csv_header.index(\"host_name\")] for x in csv_rows]\n",
    "host_name.pop(0)\n",
    "host_name = [x.lower() for x in host_name if isinstance(x,str)]\n",
    "a = \"landeyo\"\n",
    "host_result = []\n",
    "position_host = []\n",
    "\n",
    "for index,i in enumerate(host_name):\n",
    "    if check_anagrams(i,a):\n",
    "        position_host.append(index)\n",
    "        \n",
    "for i in position_host:\n",
    "    host_result.append(host_name1[i+1])\n",
    "    \n",
    "host_result"
   ]
  },
  {
   "cell_type": "code",
   "execution_count": 15,
   "metadata": {},
   "outputs": [
    {
     "data": {
      "text/plain": [
       "['568684',\n",
       " '1615764',\n",
       " '4204302',\n",
       " '5431845',\n",
       " '6169897',\n",
       " '8341919',\n",
       " '8668115',\n",
       " '10053943',\n",
       " '11096888',\n",
       " '12888849',\n",
       " '20990053',\n",
       " '27362309',\n",
       " '30378211',\n",
       " '35834935']"
      ]
     },
     "execution_count": 15,
     "metadata": {},
     "output_type": "execute_result"
    }
   ],
   "source": [
    "#q8\n",
    "\n",
    "room_night = [x[csv_header.index(\"minimum_nights\")] for x in csv_rows]\n",
    "room_ids = [x[csv_header.index(\"room_id\")] for x in csv_rows]\n",
    "room_night.pop(0)\n",
    "room_ids.pop(0)\n",
    "room_index = []\n",
    "result_id = []\n",
    "for index,i in enumerate(room_night):\n",
    "    if int(i) > 365:\n",
    "        room_index.append(index)\n",
    " \n",
    "for i in room_index:\n",
    "    result_id.append(room_ids[i])\n",
    "    \n",
    "result_id"
   ]
  },
  {
   "cell_type": "code",
   "execution_count": 16,
   "metadata": {},
   "outputs": [
    {
     "data": {
      "text/plain": [
       "['61391963',\n",
       " '30283594',\n",
       " '16098958',\n",
       " '107434423',\n",
       " '219517861',\n",
       " '12243051',\n",
       " '7503643',\n",
       " '137358866',\n",
       " '22541573',\n",
       " '200380610',\n",
       " '1475015']"
      ]
     },
     "execution_count": 16,
     "metadata": {},
     "output_type": "execute_result"
    }
   ],
   "source": [
    "#q9\n",
    "\n",
    "room_count = [x[csv_header.index(\"calculated_host_listings_count\")] for x in csv_rows]\n",
    "host_ids = [x[csv_header.index(\"host_id\")] for x in csv_rows]\n",
    "room_count.pop(0)\n",
    "host_ids.pop(0)\n",
    "room_index = []\n",
    "result_id = []\n",
    "for index,i in enumerate(room_count):\n",
    "    if int(i) > 50:\n",
    "        room_index.append(index)\n",
    " \n",
    "for i in room_index:\n",
    "    result_id.append(host_ids[i])\n",
    "    \n",
    "result_id = list(set(result_id))\n",
    "result_id"
   ]
  },
  {
   "cell_type": "code",
   "execution_count": 17,
   "metadata": {},
   "outputs": [
    {
     "data": {
      "text/plain": [
       "['Huge Brooklyn Brownstone Living, Close to it all.',\n",
       " 'MARTIAL LOFT 3: REDEMPTION (upstairs, 2nd room)',\n",
       " 'Sunny, Quiet Room in Greenpoint',\n",
       " 'Modern apartment in the heart of Williamsburg',\n",
       " 'Spacious comfortable master bedroom with nice view',\n",
       " 'Contemporary bedroom in brownstone with nice view',\n",
       " 'Cozy yet spacious private brownstone bedroom',\n",
       " 'Coliving in Brooklyn! Modern design / Shared room',\n",
       " 'Best Coliving space ever! Shared room.']"
      ]
     },
     "execution_count": 17,
     "metadata": {},
     "output_type": "execute_result"
    }
   ],
   "source": [
    "#q10\n",
    "\n",
    "cheap_name = []\n",
    "price_compare = 999999999\n",
    "for i in range(len(csv_data)):\n",
    "    if csv_data[i][csv_header.index(\"neighborhood_group\")] == \"Brooklyn\":\n",
    "        room_price = csv_data[i][csv_header.index(\"price\")]\n",
    "        if price_compare >= int(room_price):\n",
    "            price_compare = int(room_price)\n",
    "\n",
    "for i in range(len(csv_data)):\n",
    "    if int(csv_data[i][csv_header.index(\"price\")]) == price_compare and csv_data[i][csv_header.index(\"neighborhood_group\")] == \"Brooklyn\":\n",
    "        cheap_name.append(csv_data[i][csv_header.index(\"name\")])\n",
    "    \n",
    "cheap_name"
   ]
  },
  {
   "cell_type": "code",
   "execution_count": 18,
   "metadata": {},
   "outputs": [
    {
     "data": {
      "text/plain": [
       "['the best you can find']"
      ]
     },
     "execution_count": 18,
     "metadata": {},
     "output_type": "execute_result"
    }
   ],
   "source": [
    "#q11\n",
    "\n",
    "cheap_name = []\n",
    "price_compare =  int(csv_data[1][csv_header.index(\"price\")])\n",
    "for i in range(len(csv_data)):\n",
    "    if csv_data[i][csv_header.index(\"neighborhood_group\")] == \"Manhattan\":\n",
    "        room_price = csv_data[i][csv_header.index(\"price\")]\n",
    "        if price_compare >= int(room_price):\n",
    "            price_compare = int(room_price)\n",
    "\n",
    "for i in range(len(csv_data)):\n",
    "    if int(csv_data[i][csv_header.index(\"price\")]) == price_compare and csv_data[i][csv_header.index(\"neighborhood_group\")] == \"Manhattan\":\n",
    "        cheap_name.append(csv_data[i][csv_header.index(\"name\")])\n",
    "    \n",
    "cheap_name"
   ]
  },
  {
   "cell_type": "code",
   "execution_count": 19,
   "metadata": {},
   "outputs": [],
   "source": [
    "def review_ratio(a,b):\n",
    "    a = float(a)\n",
    "    b = float(b)\n",
    "    c = b/a\n",
    "    return c"
   ]
  },
  {
   "cell_type": "code",
   "execution_count": 20,
   "metadata": {},
   "outputs": [
    {
     "data": {
      "text/plain": [
       "1.022127111023952"
      ]
     },
     "execution_count": 20,
     "metadata": {},
     "output_type": "execute_result"
    }
   ],
   "source": [
    "#q12\n",
    "\n",
    "# Clarification: for this question I do google what is the library for method \"mean\"\n",
    "ratio_result = []\n",
    "for i in range(len(csv_data)):\n",
    "    \n",
    "    x = csv_data[i][csv_header.index(\"availability_365\")]\n",
    "    y = csv_data[i][csv_header.index(\"number_of_reviews\")]\n",
    "    if x != None and y!= None:\n",
    "        if int(x) == 0:\n",
    "            continue\n",
    "        else:\n",
    "            ratio_result.append(review_ratio(x,y))\n",
    "\n",
    "ave_ratio = mean(ratio_result)\n",
    "\n",
    "ave_ratio"
   ]
  },
  {
   "cell_type": "code",
   "execution_count": 21,
   "metadata": {},
   "outputs": [],
   "source": [
    "def smaller_price(a,b):\n",
    "    return min(a,b)"
   ]
  },
  {
   "cell_type": "code",
   "execution_count": 22,
   "metadata": {},
   "outputs": [
    {
     "data": {
      "text/plain": [
       "['18750597']"
      ]
     },
     "execution_count": 22,
     "metadata": {},
     "output_type": "execute_result"
    }
   ],
   "source": [
    "#q13\n",
    "\n",
    "cheap_id = []\n",
    "price_compare = 999999999\n",
    "for i in range(len(csv_data)):\n",
    "    a = csv_data[i][csv_header.index(\"latitude\")]\n",
    "    b = csv_data[i][csv_header.index(\"longitude\")]\n",
    "    if float(a) >= 40.50 and float(a) <= 40.75:\n",
    "        if float(b) >= -74.00 and float(b) <= -73.95:\n",
    "            room_price = csv_data[i][csv_header.index(\"price\")]\n",
    "            if price_compare >= float(room_price):\n",
    "                price_compare = float(room_price)\n",
    "\n",
    "for i in range(len(csv_data)):\n",
    "    a = csv_data[i][csv_header.index(\"latitude\")]\n",
    "    b = csv_data[i][csv_header.index(\"longitude\")]\n",
    "    if float(csv_data[i][csv_header.index(\"price\")]) == price_compare and ((float(a) >= 40.50 and float(a) <= 40.75) and (float(b) >= -74.00 and float(b) <= -73.95)):\n",
    "        cheap_id.append(csv_data[i][csv_header.index(\"room_id\")])\n",
    "    \n",
    "cheap_id"
   ]
  },
  {
   "cell_type": "code",
   "execution_count": 23,
   "metadata": {},
   "outputs": [
    {
     "data": {
      "text/plain": [
       "['20333471']"
      ]
     },
     "execution_count": 23,
     "metadata": {},
     "output_type": "execute_result"
    }
   ],
   "source": [
    "#q14\n",
    "\n",
    "cheap_id = []\n",
    "price_compare = 999999999\n",
    "for i in range(len(csv_data)):\n",
    "    a = csv_data[i][csv_header.index(\"latitude\")]\n",
    "    b = csv_data[i][csv_header.index(\"longitude\")]\n",
    "    if float(a) >= 40.75 and float(a) <= 41.00:\n",
    "        if float(b) >= -73.95 and float(b) <= -73.85:\n",
    "            room_price = csv_data[i][csv_header.index(\"price\")]\n",
    "            if price_compare >= float(room_price):\n",
    "                price_compare = float(room_price)\n",
    "\n",
    "for i in range(len(csv_data)):\n",
    "    a = csv_data[i][csv_header.index(\"latitude\")]\n",
    "    b = csv_data[i][csv_header.index(\"longitude\")]\n",
    "    if float(csv_data[i][csv_header.index(\"price\")]) == price_compare and ((float(a) >= 40.75 and float(a) <= 41.00) and (float(b) >= -73.95 and float(b) <= -73.85)):\n",
    "        cheap_id.append(csv_data[i][csv_header.index(\"room_id\")])\n",
    "    \n",
    "cheap_id"
   ]
  },
  {
   "cell_type": "code",
   "execution_count": 24,
   "metadata": {},
   "outputs": [
    {
     "data": {
      "text/plain": [
       "105.51515151515152"
      ]
     },
     "execution_count": 24,
     "metadata": {},
     "output_type": "execute_result"
    }
   ],
   "source": [
    "#q15\n",
    "\n",
    "sum_price = 0\n",
    "count_number = 0\n",
    "for i in range(len(csv_data)):\n",
    "    a = csv_data[i][csv_header.index(\"number_of_reviews\")]\n",
    "    if float(a) > 300:\n",
    "        sum_price += int(csv_data[i][csv_header.index(\"price\")])\n",
    "        count_number += 1\n",
    "        \n",
    "ave_price = sum_price/count_number\n",
    "\n",
    "ave_price"
   ]
  },
  {
   "cell_type": "code",
   "execution_count": 25,
   "metadata": {},
   "outputs": [
    {
     "data": {
      "text/plain": [
       "6.410041841004184"
      ]
     },
     "execution_count": 25,
     "metadata": {},
     "output_type": "execute_result"
    }
   ],
   "source": [
    "#q16\n",
    "\n",
    "sum_review = 0\n",
    "count_number = 0\n",
    "for i in range(len(csv_data)):\n",
    "    a = csv_data[i][csv_header.index(\"price\")]\n",
    "    if float(a) > 1000:\n",
    "        sum_review += int(csv_data[i][csv_header.index(\"number_of_reviews\")])\n",
    "        count_number += 1\n",
    "        \n",
    "ave_review = sum_review/count_number\n",
    "\n",
    "ave_review"
   ]
  },
  {
   "cell_type": "code",
   "execution_count": 26,
   "metadata": {},
   "outputs": [
    {
     "data": {
      "text/plain": [
       "30.569948186528496"
      ]
     },
     "execution_count": 26,
     "metadata": {},
     "output_type": "execute_result"
    }
   ],
   "source": [
    "#q17\n",
    "\n",
    "a = 0\n",
    "b = 0\n",
    "c = \"sweet\"\n",
    "d = \"home\"\n",
    "for i in range(len(csv_data)):\n",
    "    if c in csv_data[i][csv_header.index(\"name\")].lower():\n",
    "        a += 1\n",
    "    if (c in csv_data[i][csv_header.index(\"name\")].lower()) and (d in csv_data[i][csv_header.index(\"name\")].lower()):\n",
    "        b += 1\n",
    "\n",
    "special_ratio = review_ratio(a,b) * 100\n",
    "special_ratio\n"
   ]
  },
  {
   "cell_type": "code",
   "execution_count": 27,
   "metadata": {},
   "outputs": [
    {
     "data": {
      "text/plain": [
       "48.92086330935252"
      ]
     },
     "execution_count": 27,
     "metadata": {},
     "output_type": "execute_result"
    }
   ],
   "source": [
    "#q18\n",
    "\n",
    "a = 0\n",
    "b = 0\n",
    "c = \"pool\"\n",
    "d = \"gym\"\n",
    "for i in range(len(csv_data)):\n",
    "    if c in csv_data[i][csv_header.index(\"name\")].lower():\n",
    "        a += 1\n",
    "    if (c in csv_data[i][csv_header.index(\"name\")].lower()) and (d in csv_data[i][csv_header.index(\"name\")].lower()):\n",
    "        b += 1\n",
    "\n",
    "special_ratio = review_ratio(a,b) * 100\n",
    "special_ratio"
   ]
  },
  {
   "cell_type": "code",
   "execution_count": 28,
   "metadata": {},
   "outputs": [
    {
     "data": {
      "text/plain": [
       "10.0"
      ]
     },
     "execution_count": 28,
     "metadata": {},
     "output_type": "execute_result"
    }
   ],
   "source": [
    "#q19\n",
    "\n",
    "a = 0\n",
    "b = 0\n",
    "c = \"five\"\n",
    "d = \"stars\"\n",
    "for i in range(len(csv_data)):\n",
    "    if c in csv_data[i][csv_header.index(\"name\")].lower():\n",
    "        a += 1\n",
    "    if (c in csv_data[i][csv_header.index(\"name\")].lower()) and (d in csv_data[i][csv_header.index(\"name\")].lower()):\n",
    "        b += 1\n",
    "\n",
    "special_ratio = review_ratio(a,b) * 100\n",
    "special_ratio"
   ]
  },
  {
   "cell_type": "code",
   "execution_count": 29,
   "metadata": {},
   "outputs": [
    {
     "data": {
      "text/plain": [
       "350000"
      ]
     },
     "execution_count": 29,
     "metadata": {},
     "output_type": "execute_result"
    }
   ],
   "source": [
    "#q20\n",
    "\n",
    "cheap_name = []\n",
    "price_compare = 0\n",
    "m_night = 0\n",
    "price_compare1 = 0\n",
    "b_night = 0\n",
    "for i in range(len(csv_data)):\n",
    "    if csv_data[i][csv_header.index(\"neighborhood_group\")] == \"Manhattan\":\n",
    "        room_price = csv_data[i][csv_header.index(\"price\")]\n",
    "        if price_compare <= int(room_price):\n",
    "            price_compare = int(room_price)\n",
    "            \n",
    "\n",
    "for i in range(len(csv_data)):\n",
    "    if int(csv_data[i][csv_header.index(\"price\")]) == price_compare and csv_data[i][csv_header.index(\"neighborhood_group\")] == \"Manhattan\":\n",
    "        m_night = int(csv_data[i][csv_header.index(\"minimum_nights\")])\n",
    "     \n",
    "for i in range(len(csv_data)):\n",
    "    if csv_data[i][csv_header.index(\"neighborhood_group\")] == \"Brooklyn\":\n",
    "        room_price = csv_data[i][csv_header.index(\"price\")]\n",
    "        if price_compare1 <= int(room_price):\n",
    "            price_compare1 = int(room_price)\n",
    "            \n",
    "\n",
    "for i in range(len(csv_data)):\n",
    "    if int(csv_data[i][csv_header.index(\"price\")]) == price_compare and csv_data[i][csv_header.index(\"neighborhood_group\")] == \"Brooklyn\":\n",
    "        b_night = int(csv_data[i][csv_header.index(\"minimum_nights\")])\n",
    "        \n",
    "total_cost = m_night * price_compare + b_night * price_compare1 \n",
    "\n",
    "total_cost"
   ]
  },
  {
   "cell_type": "code",
   "execution_count": null,
   "metadata": {},
   "outputs": [],
   "source": []
  },
  {
   "cell_type": "code",
   "execution_count": null,
   "metadata": {},
   "outputs": [],
   "source": []
  }
 ],
 "metadata": {
  "kernelspec": {
   "display_name": "Python 3",
   "language": "python",
   "name": "python3"
  },
  "language_info": {
   "codemirror_mode": {
    "name": "ipython",
    "version": 3
   },
   "file_extension": ".py",
   "mimetype": "text/x-python",
   "name": "python",
   "nbconvert_exporter": "python",
   "pygments_lexer": "ipython3",
   "version": "3.8.5"
  }
 },
 "nbformat": 4,
 "nbformat_minor": 4
}
