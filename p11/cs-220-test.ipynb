{
 "cells": [
  {
   "cell_type": "code",
   "execution_count": 1,
   "metadata": {},
   "outputs": [],
   "source": [
    "# project: p11\n",
    "# submitter: zchen697\n",
    "# partner: crzhong"
   ]
  },
  {
   "cell_type": "code",
   "execution_count": 2,
   "metadata": {},
   "outputs": [],
   "source": [
    "import os, json, csv, copy\n",
    "import numpy as np\n",
    "import pandas as pd\n",
    "from collections import namedtuple\n",
    "%matplotlib inline"
   ]
  },
  {
   "cell_type": "code",
   "execution_count": 3,
   "metadata": {},
   "outputs": [],
   "source": [
    "def scatter(x, y, xlabel=\"please label me!\", ylabel=\"please label me!\"):\n",
    "    df = pd.DataFrame({\"x\":x, \"y\":y})\n",
    "    ax = df.plot.scatter(x=\"x\", y=\"y\", color=\"black\", fontsize=16, xlim=0, ylim=0)\n",
    "    ax.set_xlabel(xlabel, fontsize=16)\n",
    "    ax.set_ylabel(ylabel, fontsize=16)\n",
    "    ax.get_xaxis().get_major_formatter().set_scientific(False)\n",
    "    ax.get_yaxis().get_major_formatter().set_scientific(False)"
   ]
  },
  {
   "cell_type": "code",
   "execution_count": 4,
   "metadata": {},
   "outputs": [],
   "source": [
    "def read_json(path):\n",
    "    with open(path, encoding=\"utf-8\") as f:\n",
    "        return json.load(f)"
   ]
  },
  {
   "cell_type": "code",
   "execution_count": 5,
   "metadata": {},
   "outputs": [],
   "source": [
    "def get_mapping(path):\n",
    "    target_file = open(path, encoding=\"utf-8\")\n",
    "    target_file = csv.reader(target_file)\n",
    "    target_file = list(target_file)\n",
    "    return target_file"
   ]
  },
  {
   "cell_type": "code",
   "execution_count": 6,
   "metadata": {},
   "outputs": [],
   "source": [
    "Tweet = namedtuple(\"Tweet\", [\"tweet_id\", \"username\", \"num_liked\", \"length\"])"
   ]
  },
  {
   "cell_type": "code",
   "execution_count": 7,
   "metadata": {},
   "outputs": [],
   "source": [
    "def get_tupleresult(sample):\n",
    "    target_list = []\n",
    "    header = sample[0]\n",
    "    for i in range(len(sample)):\n",
    "        if i == 0:\n",
    "            continue\n",
    "        if sample[i][header.index(\"tweet_id\")].isdigit() == False:\n",
    "            continue\n",
    "        if sample[i][header.index(\"username\")].startswith(\"USERID\") == False:\n",
    "            continue\n",
    "        if sample[i][header.index(\"num_liked\")].isdigit() == False:\n",
    "            continue\n",
    "        if type(sample[i][header.index(\"tweet_text\")]) == bool or sample[i][header.index(\"tweet_text\")] == None:\n",
    "            continue\n",
    "        else:\n",
    "            target_list.append(Tweet(tweet_id=sample[i][header.index(\"tweet_id\")],username=sample[i][header.index(\"username\")],num_liked=int(sample[i][header.index(\"num_liked\")]),length=int(len(sample[i][header.index(\"tweet_text\")]))))\n",
    "    return target_list\n",
    "    "
   ]
  },
  {
   "cell_type": "code",
   "execution_count": 8,
   "metadata": {},
   "outputs": [],
   "source": [
    "def get_jsonresult(sample):\n",
    "    target_key = []\n",
    "    target_list = []\n",
    "    for i in sample.keys():\n",
    "        target_key.append(i)\n",
    "    for i in range(len(sample)):\n",
    "        if target_key[i].isdigit() == False:\n",
    "            continue\n",
    "        if sample[target_key[i]][\"username\"].startswith(\"USERID\") == False:\n",
    "            continue\n",
    "#         if sample[target_key[i]][\"num_liked\"].isdigit() == False:\n",
    "#             continue\n",
    "        if type(sample[target_key[i]][\"tweet_text\"]) == bool or sample[target_key[i]][\"tweet_text\"] == None:\n",
    "            continue\n",
    "        else:\n",
    "            target_list.append(Tweet(tweet_id=target_key[i],username=sample[target_key[i]][\"username\"],num_liked=sample[target_key[i]][\"num_liked\"],length=len(sample[target_key[i]][\"tweet_text\"])))\n",
    "    return target_list"
   ]
  },
  {
   "cell_type": "code",
   "execution_count": 9,
   "metadata": {},
   "outputs": [],
   "source": [
    "length_search = []\n",
    "csv_search = []\n",
    "target_keys = []\n",
    "whole_dict = {}\n",
    "target_dict = {}\n",
    "csv_chosen = []\n",
    "final_data = []\n",
    "for a in sorted(os.listdir(\"full_data\"), reverse = True):\n",
    "    if a.endswith(\"json\"):\n",
    "        try:\n",
    "            json_data = read_json(os.path.join(\"full_data\",a))\n",
    "            whole_dict = json_data\n",
    "            json_chosen = get_jsonresult(whole_dict)\n",
    "            for jsonlength in range(len(json_chosen)):\n",
    "                final_data.append(json_chosen[jsonlength])\n",
    "        except Exception as e:\n",
    "            continue\n",
    "    if a.endswith(\"csv\"):\n",
    "        csv_sample = get_mapping(os.path.join(\"full_data\", a))\n",
    "        csv_chosen = get_tupleresult(csv_sample)\n",
    "        for checklength in range(len(csv_chosen)):\n",
    "            final_data.append(csv_chosen[checklength])"
   ]
  },
  {
   "cell_type": "code",
   "execution_count": 10,
   "metadata": {},
   "outputs": [
    {
     "data": {
      "text/plain": [
       "445"
      ]
     },
     "execution_count": 10,
     "metadata": {},
     "output_type": "execute_result"
    }
   ],
   "source": [
    "#q1\n",
    "\n",
    "len(final_data)"
   ]
  },
  {
   "cell_type": "code",
   "execution_count": 11,
   "metadata": {},
   "outputs": [
    {
     "data": {
      "text/plain": [
       "{'USERID_1',\n",
       " 'USERID_10',\n",
       " 'USERID_2',\n",
       " 'USERID_3',\n",
       " 'USERID_4',\n",
       " 'USERID_5',\n",
       " 'USERID_6',\n",
       " 'USERID_7',\n",
       " 'USERID_8',\n",
       " 'USERID_9'}"
      ]
     },
     "execution_count": 11,
     "metadata": {},
     "output_type": "execute_result"
    }
   ],
   "source": [
    "#q2\n",
    "\n",
    "user_id_check = set([])\n",
    "for index in range(len(final_data)):\n",
    "    if not (final_data[index][1] in user_id_check):\n",
    "        user_id_check.add(final_data[index][1])\n",
    "        \n",
    "user_id_check"
   ]
  },
  {
   "cell_type": "code",
   "execution_count": 12,
   "metadata": {},
   "outputs": [
    {
     "data": {
      "text/plain": [
       "{'USERID_10': 45,\n",
       " 'USERID_7': 55,\n",
       " 'USERID_4': 35,\n",
       " 'USERID_3': 39,\n",
       " 'USERID_6': 51,\n",
       " 'USERID_2': 47,\n",
       " 'USERID_8': 31,\n",
       " 'USERID_5': 46,\n",
       " 'USERID_1': 52,\n",
       " 'USERID_9': 44}"
      ]
     },
     "execution_count": 12,
     "metadata": {},
     "output_type": "execute_result"
    }
   ],
   "source": [
    "#q3\n",
    "\n",
    "prolific_check_old = list(user_id_check)\n",
    "prolific_check = {}\n",
    "for check in prolific_check_old:\n",
    "    prolific_check[check] = 0\n",
    "for index in range(len(final_data)):\n",
    "    for check in prolific_check.keys():\n",
    "        if final_data[index][1] == check:\n",
    "            prolific_check[check] += 1\n",
    "            \n",
    "#sorted(prolific_check.items(), key=lambda x:x[1], reverse = True)\n",
    "prolific_check"
   ]
  },
  {
   "cell_type": "code",
   "execution_count": 13,
   "metadata": {},
   "outputs": [],
   "source": [
    "def get_num(s):\n",
    "    if type(s.num_liked) == int:\n",
    "        return s.num_liked\n",
    "    elif not(type(s.num_liked) == int):\n",
    "        if s.num_liked[-1] == \"M\":\n",
    "            return int(s.num_liked.strip(\"M\"))*1000000\n",
    "        if s.num_liked[-1] == \"k\":\n",
    "            return int(s.num_liked.strip(\"k\"))*1000\n",
    "        else:\n",
    "            return 0"
   ]
  },
  {
   "cell_type": "code",
   "execution_count": 14,
   "metadata": {},
   "outputs": [],
   "source": [
    "def get_bestliked(document):\n",
    "    compare_list = []\n",
    "    for a in sorted(os.listdir(document), reverse = True):\n",
    "        if a.endswith(\"json\"):\n",
    "            try:\n",
    "                check_file = read_json(os.path.join(document,a))\n",
    "                json_dict = check_file\n",
    "                json_chosen = get_jsonresult(json_dict)\n",
    "                compare_list += json_chosen\n",
    "            except Exception as e:\n",
    "                continue\n",
    "        if a.endswith(\"csv\"):\n",
    "            check_csvfile = get_tupleresult(get_mapping(os.path.join(document,a)))\n",
    "            compare_list += check_csvfile\n",
    "    return sorted(compare_list, key=get_num, reverse=True)"
   ]
  },
  {
   "cell_type": "code",
   "execution_count": 15,
   "metadata": {},
   "outputs": [],
   "source": [
    "def literal_check(numbercheck):\n",
    "    if type(numbercheck) == int:\n",
    "        return numbercheck\n",
    "    if not(type(numbercheck[-1]) == int):\n",
    "        if numbercheck[-1] == \"M\":\n",
    "            temp_data = int(numbercheck[:-1]) * 1000000\n",
    "            return temp_data\n",
    "        elif numbercheck[-1] == \"k\":\n",
    "            temp_data = int(numbercheck[:-1]) * 1000\n",
    "            return temp_data"
   ]
  },
  {
   "cell_type": "code",
   "execution_count": 16,
   "metadata": {},
   "outputs": [
    {
     "data": {
      "text/plain": [
       "{'USERID_10': 9936,\n",
       " 'USERID_7': 9851,\n",
       " 'USERID_4': 9618,\n",
       " 'USERID_3': 9678,\n",
       " 'USERID_6': 9149,\n",
       " 'USERID_2': 869000000,\n",
       " 'USERID_8': 915000,\n",
       " 'USERID_5': 9608,\n",
       " 'USERID_1': 9393,\n",
       " 'USERID_9': 9728}"
      ]
     },
     "execution_count": 16,
     "metadata": {},
     "output_type": "execute_result"
    }
   ],
   "source": [
    "#q4\n",
    "\n",
    "ordered_data = get_bestliked(\"full_data\")\n",
    "liked_check_old = list(user_id_check)\n",
    "liked_check = {}\n",
    "for check in liked_check_old:\n",
    "    liked_check[check] = 0\n",
    "for pos in liked_check:\n",
    "    if not(liked_check[pos] == 0):\n",
    "        continue\n",
    "    else:\n",
    "        for ranking in ordered_data:\n",
    "            if ranking.username == pos:\n",
    "                liked_check[pos] = literal_check(ranking.num_liked)\n",
    "                break\n",
    "\n",
    "liked_check"
   ]
  },
  {
   "cell_type": "code",
   "execution_count": 17,
   "metadata": {},
   "outputs": [],
   "source": [
    "def get_bestlength(document):\n",
    "    compare_list = []\n",
    "    for a in sorted(os.listdir(document), reverse = True):\n",
    "        if a.endswith(\"json\"):\n",
    "            try:\n",
    "                check_file = read_json(os.path.join(document,a))\n",
    "                json_dict = check_file\n",
    "                json_chosen = get_jsonresult(json_dict)\n",
    "                compare_list += json_chosen\n",
    "            except Exception as e:\n",
    "                continue\n",
    "        if a.endswith(\"csv\"):\n",
    "            check_csvfile = get_tupleresult(get_mapping(os.path.join(document,a)))\n",
    "            compare_list += check_csvfile\n",
    "    return sorted(compare_list, key=get_length, reverse=True)"
   ]
  },
  {
   "cell_type": "code",
   "execution_count": 18,
   "metadata": {},
   "outputs": [],
   "source": [
    "def get_length(s):\n",
    "    return s.length"
   ]
  },
  {
   "cell_type": "code",
   "execution_count": 19,
   "metadata": {},
   "outputs": [
    {
     "data": {
      "text/plain": [
       "{'USERID_10': 136,\n",
       " 'USERID_7': 144,\n",
       " 'USERID_4': 138,\n",
       " 'USERID_3': 138,\n",
       " 'USERID_6': 145,\n",
       " 'USERID_2': 138,\n",
       " 'USERID_8': 145,\n",
       " 'USERID_5': 146,\n",
       " 'USERID_1': 150,\n",
       " 'USERID_9': 137}"
      ]
     },
     "execution_count": 19,
     "metadata": {},
     "output_type": "execute_result"
    }
   ],
   "source": [
    "#q5\n",
    "\n",
    "length_dict = get_bestlength(\"full_data\")\n",
    "final_length_rank = list(user_id_check)\n",
    "length_ranked = {}\n",
    "#print(length_dict)\n",
    "for check in final_length_rank:\n",
    "    length_ranked[check] = 0\n",
    "for pos in length_dict:\n",
    "    for check in length_ranked.keys():\n",
    "        if length_ranked[check] == 0 and check == pos.username:\n",
    "            length_ranked[check] = pos.length\n",
    "        \n",
    "length_ranked"
   ]
  },
  {
   "cell_type": "code",
   "execution_count": 20,
   "metadata": {},
   "outputs": [
    {
     "data": {
      "image/png": "[encoded data removed]",
      "text/plain": [
       "<Figure size 432x288 with 1 Axes>"
      ]
     },
     "metadata": {
      "needs_background": "light"
     },
     "output_type": "display_data"
    }
   ],
   "source": [
    "#q6\n",
    "\n",
    "scatter(prolific_check, length_ranked, xlabel=\"Number of tweets\", ylabel=\"Longest length\")"
   ]
  },
  {
   "cell_type": "code",
   "execution_count": 21,
   "metadata": {},
   "outputs": [
    {
     "data": {
      "image/png": "[encoded data removed]",
      "text/plain": [
       "<Figure size 432x288 with 1 Axes>"
      ]
     },
     "metadata": {
      "needs_background": "light"
     },
     "output_type": "display_data"
    }
   ],
   "source": [
    "#q7\n",
    "\n",
    "scatter(prolific_check, liked_check, xlabel=\"Number of tweets\", ylabel=\"Largest likes\")"
   ]
  },
  {
   "cell_type": "code",
   "execution_count": 22,
   "metadata": {},
   "outputs": [
    {
     "data": {
      "image/png": "[encoded data removed]",
      "text/plain": [
       "<Figure size 432x288 with 1 Axes>"
      ]
     },
     "metadata": {
      "needs_background": "light"
     },
     "output_type": "display_data"
    }
   ],
   "source": [
    "#q8\n",
    "\n",
    "scatter(length_ranked, liked_check, xlabel=\"Longest length\", ylabel=\"Largest likes\")"
   ]
  },
  {
   "cell_type": "code",
   "execution_count": 23,
   "metadata": {},
   "outputs": [],
   "source": [
    "def outlier_check(dataset):\n",
    "    for pos in dataset:\n",
    "        if dataset[pos] > 1000000:\n",
    "            return pos"
   ]
  },
  {
   "cell_type": "code",
   "execution_count": 24,
   "metadata": {
    "scrolled": true
   },
   "outputs": [
    {
     "data": {
      "text/plain": [
       "'USERID_2'"
      ]
     },
     "execution_count": 24,
     "metadata": {},
     "output_type": "execute_result"
    }
   ],
   "source": [
    "#q9\n",
    "\n",
    "outlier_name = outlier_check(liked_check)\n",
    "outlier_name"
   ]
  },
  {
   "cell_type": "code",
   "execution_count": 25,
   "metadata": {},
   "outputs": [
    {
     "data": {
      "text/plain": [
       "[Tweet(tweet_id='1467894593', username='USERID_2', num_liked='869M', length=136),\n",
       " Tweet(tweet_id='1467875163', username='USERID_2', num_liked=9891, length=69),\n",
       " Tweet(tweet_id='1467862806', username='USERID_2', num_liked=9465, length=68),\n",
       " Tweet(tweet_id='1467907751', username='USERID_2', num_liked=9048, length=110),\n",
       " Tweet(tweet_id='1467928764', username='USERID_2', num_liked=9026, length=41),\n",
       " Tweet(tweet_id='1467943007', username='USERID_2', num_liked=9000, length=130),\n",
       " Tweet(tweet_id='1467918682', username='USERID_2', num_liked=8884, length=102),\n",
       " Tweet(tweet_id='1467935121', username='USERID_2', num_liked=8740, length=37),\n",
       " Tweet(tweet_id='1467947913', username='USERID_2', num_liked=8578, length=36),\n",
       " Tweet(tweet_id='1467892667', username='USERID_2', num_liked=8270, length=20),\n",
       " Tweet(tweet_id='1467897316', username='USERID_2', num_liked=7890, length=64),\n",
       " Tweet(tweet_id='1467854917', username='USERID_2', num_liked=7741, length=30),\n",
       " Tweet(tweet_id='1467961106', username='USERID_2', num_liked=7552, length=65),\n",
       " Tweet(tweet_id='1467951252', username='USERID_2', num_liked=7515, length=48),\n",
       " Tweet(tweet_id='1467889988', username='USERID_2', num_liked=7394, length=51),\n",
       " Tweet(tweet_id='1467916959', username='USERID_2', num_liked=7081, length=69),\n",
       " Tweet(tweet_id='1467874916', username='USERID_2', num_liked=6935, length=23),\n",
       " Tweet(tweet_id='1467855981', username='USERID_2', num_liked=6455, length=92),\n",
       " Tweet(tweet_id='1467872247', username='USERID_2', num_liked=6316, length=137),\n",
       " Tweet(tweet_id='1467918850', username='USERID_2', num_liked=5383, length=103),\n",
       " Tweet(tweet_id='1467919055', username='USERID_2', num_liked=5370, length=68),\n",
       " Tweet(tweet_id='1467915670', username='USERID_2', num_liked=5287, length=138),\n",
       " Tweet(tweet_id='1467880442', username='USERID_2', num_liked=5125, length=96),\n",
       " Tweet(tweet_id='1467896253', username='USERID_2', num_liked=4906, length=91),\n",
       " Tweet(tweet_id='1467962897', username='USERID_2', num_liked=4898, length=98),\n",
       " Tweet(tweet_id='1467855812', username='USERID_2', num_liked=4806, length=28),\n",
       " Tweet(tweet_id='1467930220', username='USERID_2', num_liked=4770, length=94),\n",
       " Tweet(tweet_id='1467852031', username='USERID_2', num_liked=4565, length=63),\n",
       " Tweet(tweet_id='1467905378', username='USERID_2', num_liked=4420, length=111),\n",
       " Tweet(tweet_id='1467877833', username='USERID_2', num_liked=4270, length=89),\n",
       " Tweet(tweet_id='1467870866', username='USERID_2', num_liked=4166, length=82),\n",
       " Tweet(tweet_id='1467879984', username='USERID_2', num_liked=3694, length=69),\n",
       " Tweet(tweet_id='1467898511', username='USERID_2', num_liked=3477, length=99),\n",
       " Tweet(tweet_id='1467926632', username='USERID_2', num_liked=2602, length=98),\n",
       " Tweet(tweet_id='1467862213', username='USERID_2', num_liked=2455, length=138),\n",
       " Tweet(tweet_id='1467878633', username='USERID_2', num_liked=2351, length=33),\n",
       " Tweet(tweet_id='1467878971', username='USERID_2', num_liked=2238, length=27),\n",
       " Tweet(tweet_id='1467953090', username='USERID_2', num_liked=1896, length=64),\n",
       " Tweet(tweet_id='1467908798', username='USERID_2', num_liked=1659, length=51),\n",
       " Tweet(tweet_id='1467918015', username='USERID_2', num_liked=1508, length=97),\n",
       " Tweet(tweet_id='1467926444', username='USERID_2', num_liked=1394, length=61),\n",
       " Tweet(tweet_id='1467914499', username='USERID_2', num_liked=910, length=138),\n",
       " Tweet(tweet_id='1467968584', username='USERID_2', num_liked=777, length=132),\n",
       " Tweet(tweet_id='1467933102', username='USERID_2', num_liked=625, length=135),\n",
       " Tweet(tweet_id='1467953277', username='USERID_2', num_liked=494, length=31),\n",
       " Tweet(tweet_id='1467890222', username='USERID_2', num_liked=227, length=107),\n",
       " Tweet(tweet_id='1467871956', username='USERID_2', num_liked=110, length=68)]"
      ]
     },
     "execution_count": 25,
     "metadata": {},
     "output_type": "execute_result"
    }
   ],
   "source": [
    "#q10\n",
    "liked_long_ranked = get_bestliked(\"full_data\")\n",
    "outlier_liked = []\n",
    "for pos in liked_long_ranked:\n",
    "    if pos.username == outlier_name:\n",
    "        outlier_liked.append(pos)\n",
    "\n",
    "outlier_liked"
   ]
  },
  {
   "cell_type": "code",
   "execution_count": 26,
   "metadata": {},
   "outputs": [
    {
     "data": {
      "text/plain": [
       "5003.565217391304"
      ]
     },
     "execution_count": 26,
     "metadata": {},
     "output_type": "execute_result"
    }
   ],
   "source": [
    "#q11\n",
    "\n",
    "sum_liked = 0\n",
    "numbercounted = 0\n",
    "\n",
    "for i in range(len(outlier_liked)):\n",
    "    if i == 0: \n",
    "        continue\n",
    "    else:\n",
    "        sum_liked += outlier_liked[i][2]\n",
    "        numbercounted += 1\n",
    "\n",
    "sum_liked/numbercounted"
   ]
  },
  {
   "cell_type": "code",
   "execution_count": 27,
   "metadata": {},
   "outputs": [],
   "source": [
    "def get_idnum(dataname):\n",
    "    dataset_selected = []\n",
    "    for pos in liked_long_ranked:\n",
    "        if pos.username == dataname:\n",
    "            dataset_selected.append(pos)\n",
    "    return dataset_selected\n"
   ]
  },
  {
   "cell_type": "code",
   "execution_count": 28,
   "metadata": {},
   "outputs": [],
   "source": [
    "def largest_num(dataset):\n",
    "    dataset[max(dataset, key=dataset.get)] = get_idnum(max(dataset, key=dataset.get))[1][2]\n",
    "    return dataset"
   ]
  },
  {
   "cell_type": "code",
   "execution_count": 29,
   "metadata": {},
   "outputs": [
    {
     "data": {
      "image/png": "[encoded data removed]",
      "text/plain": [
       "<Figure size 432x288 with 1 Axes>"
      ]
     },
     "metadata": {
      "needs_background": "light"
     },
     "output_type": "display_data"
    }
   ],
   "source": [
    "#q12\n",
    "\n",
    "accurate_liked = copy.deepcopy(liked_check)\n",
    "accurate_prolific = copy.deepcopy(prolific_check)\n",
    "\n",
    "accurate_liked = largest_num(accurate_liked)\n",
    "accurate_prolific[max(liked_check, key=liked_check.get)] = accurate_prolific[max(liked_check, key=liked_check.get)] - 1\n",
    "\n",
    "scatter(accurate_prolific, accurate_liked, xlabel=\"Number of tweets\", ylabel=\"Largest likes\")"
   ]
  },
  {
   "cell_type": "code",
   "execution_count": 30,
   "metadata": {
    "scrolled": true
   },
   "outputs": [
    {
     "data": {
      "image/png": "[encoded data removed]",
      "text/plain": [
       "<Figure size 432x288 with 1 Axes>"
      ]
     },
     "metadata": {
      "needs_background": "light"
     },
     "output_type": "display_data"
    }
   ],
   "source": [
    "#q13\n",
    "\n",
    "second_liked = copy.deepcopy(accurate_liked)\n",
    "second_prolific = copy.deepcopy(accurate_prolific)\n",
    "\n",
    "second_liked = largest_num(second_liked)\n",
    "second_prolific[max(accurate_liked, key=accurate_liked.get)] = second_prolific[max(accurate_liked, key=accurate_liked.get)] - 1\n",
    "\n",
    "scatter(second_prolific, second_liked, xlabel=\"Number of tweets\", ylabel=\"Largest likes\")"
   ]
  },
  {
   "cell_type": "code",
   "execution_count": 31,
   "metadata": {},
   "outputs": [],
   "source": [
    "def find_dir(pathway, totalfile = []):\n",
    "    currentlist = os.listdir(pathway)\n",
    "    for name in currentlist:\n",
    "        innerpath = os.path.join(pathway, name)\n",
    "        if os.path.isfile(innerpath):\n",
    "            totalfile.append(innerpath)\n",
    "        elif os.path.isdir(innerpath):\n",
    "            find_dir(innerpath, totalfile)\n",
    "    return totalfile"
   ]
  },
  {
   "cell_type": "code",
   "execution_count": 32,
   "metadata": {},
   "outputs": [
    {
     "data": {
      "text/plain": [
       "[]"
      ]
     },
     "execution_count": 32,
     "metadata": {},
     "output_type": "execute_result"
    }
   ],
   "source": [
    "#q14\n",
    "\n",
    "find_dir(os.path.join(\"play\",\"rb\",\"rb8\"),[])"
   ]
  },
  {
   "cell_type": "code",
   "execution_count": 33,
   "metadata": {},
   "outputs": [
    {
     "data": {
      "text/plain": [
       "['play\\\\ou\\\\v',\n",
       " 'play\\\\ou\\\\quap\\\\uikwe',\n",
       " 'play\\\\ou\\\\quap\\\\qonxu.txt',\n",
       " 'play\\\\ou\\\\quap\\\\aoq\\\\qsonj',\n",
       " 'play\\\\ou\\\\quap\\\\aoq\\\\aqnsa',\n",
       " 'play\\\\ou\\\\b',\n",
       " 'play\\\\ou\\\\a']"
      ]
     },
     "execution_count": 33,
     "metadata": {},
     "output_type": "execute_result"
    }
   ],
   "source": [
    "#q15\n",
    "\n",
    "sorted(find_dir(os.path.join(\"play\",\"ou\"),[]),reverse = True)"
   ]
  },
  {
   "cell_type": "code",
   "execution_count": 34,
   "metadata": {},
   "outputs": [
    {
     "data": {
      "text/plain": [
       "['play\\\\rb\\\\rb9\\\\89.csv',\n",
       " 'play\\\\rb\\\\rb9\\\\12.xls',\n",
       " 'play\\\\rb\\\\ppt.ppt',\n",
       " 'play\\\\ou\\\\v',\n",
       " 'play\\\\ou\\\\quap\\\\uikwe',\n",
       " 'play\\\\ou\\\\quap\\\\qonxu.txt',\n",
       " 'play\\\\ou\\\\quap\\\\aoq\\\\qsonj',\n",
       " 'play\\\\ou\\\\quap\\\\aoq\\\\aqnsa',\n",
       " 'play\\\\ou\\\\b',\n",
       " 'play\\\\ou\\\\a',\n",
       " 'play\\\\ls\\\\qwe\\\\usun.pdf',\n",
       " 'play\\\\ls\\\\qwe\\\\iuqwe.json',\n",
       " 'play\\\\ls\\\\mf.py',\n",
       " 'play\\\\ls\\\\lu.txt']"
      ]
     },
     "execution_count": 34,
     "metadata": {},
     "output_type": "execute_result"
    }
   ],
   "source": [
    "#q16\n",
    "\n",
    "sorted(find_dir(\"play\",[]), reverse = True)"
   ]
  },
  {
   "cell_type": "code",
   "execution_count": 35,
   "metadata": {},
   "outputs": [
    {
     "data": {
      "text/plain": [
       "['recursive\\\\others\\\\USERID_9.json',\n",
       " 'recursive\\\\others\\\\USERID_8.json',\n",
       " 'recursive\\\\others\\\\USERID_7.json',\n",
       " 'recursive\\\\others\\\\USERID_6.json',\n",
       " 'recursive\\\\others\\\\USERID_5.json',\n",
       " 'recursive\\\\others\\\\USERID_10.json']"
      ]
     },
     "execution_count": 35,
     "metadata": {},
     "output_type": "execute_result"
    }
   ],
   "source": [
    "#q17\n",
    "\n",
    "sorted(find_dir(os.path.join(\"recursive\",\"others\"),[]), reverse = True)"
   ]
  },
  {
   "cell_type": "code",
   "execution_count": 36,
   "metadata": {},
   "outputs": [
    {
     "data": {
      "text/plain": [
       "['recursive\\\\others\\\\USERID_9.json',\n",
       " 'recursive\\\\others\\\\USERID_8.json',\n",
       " 'recursive\\\\others\\\\USERID_7.json',\n",
       " 'recursive\\\\others\\\\USERID_6.json',\n",
       " 'recursive\\\\others\\\\USERID_5.json',\n",
       " 'recursive\\\\others\\\\USERID_10.json',\n",
       " 'recursive\\\\USERID_4\\\\true\\\\tweets.json',\n",
       " 'recursive\\\\USERID_4\\\\false\\\\tweets.json',\n",
       " 'recursive\\\\USERID_3\\\\tweets.json',\n",
       " 'recursive\\\\USERID_2\\\\tweets.json',\n",
       " 'recursive\\\\USERID_1\\\\tweets.json']"
      ]
     },
     "execution_count": 36,
     "metadata": {},
     "output_type": "execute_result"
    }
   ],
   "source": [
    "#q18\n",
    "\n",
    "sorted(find_dir(\"recursive\",[]), reverse = True)"
   ]
  },
  {
   "cell_type": "code",
   "execution_count": 37,
   "metadata": {},
   "outputs": [
    {
     "data": {
      "text/plain": [
       "17"
      ]
     },
     "execution_count": 37,
     "metadata": {},
     "output_type": "execute_result"
    }
   ],
   "source": [
    "#q19\n",
    "\n",
    "filesneeded = sorted(find_dir(os.path.join(\"recursive\",\"USERID_4\"),[]), reverse = True)\n",
    "tweets_detected = []\n",
    "for i in filesneeded:\n",
    "    tweets_detected.append(len(get_jsonresult(read_json(i))))\n",
    "\n",
    "sum(tweets_detected)"
   ]
  },
  {
   "cell_type": "code",
   "execution_count": 38,
   "metadata": {},
   "outputs": [
    {
     "data": {
      "text/plain": [
       "200"
      ]
     },
     "execution_count": 38,
     "metadata": {},
     "output_type": "execute_result"
    }
   ],
   "source": [
    "#q20\n",
    "\n",
    "recursive_tweets = sorted(find_dir(\"recursive\",[]), reverse = True)\n",
    "tweets_recursive_file = []\n",
    "for i in recursive_tweets:\n",
    "    tweets_recursive_file.append(len(get_jsonresult(read_json(i))))\n",
    "sum(tweets_recursive_file)"
   ]
  },
  {
   "cell_type": "code",
   "execution_count": null,
   "metadata": {},
   "outputs": [],
   "source": []
  }
 ],
 "metadata": {
  "kernelspec": {
   "display_name": "Python 3",
   "language": "python",
   "name": "python3"
  },
  "language_info": {
   "codemirror_mode": {
    "name": "ipython",
    "version": 3
   },
   "file_extension": ".py",
   "mimetype": "text/x-python",
   "name": "python",
   "nbconvert_exporter": "python",
   "pygments_lexer": "ipython3",
   "version": "3.8.5"
  }
 },
 "nbformat": 4,
 "nbformat_minor": 4
}
